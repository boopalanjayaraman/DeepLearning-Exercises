{
 "cells": [
  {
   "cell_type": "markdown",
   "metadata": {
    "collapsed": true
   },
   "source": [
    "# Language Translation\n",
    "In this project, you’re going to take a peek into the realm of neural network machine translation.  You’ll be training a sequence to sequence model on a dataset of English and French sentences that can translate new sentences from English to French.\n",
    "## Get the Data\n",
    "Since translating the whole language of English to French will take lots of time to train, we have provided you with a small portion of the English corpus."
   ]
  },
  {
   "cell_type": "code",
   "execution_count": 97,
   "metadata": {
    "collapsed": true
   },
   "outputs": [],
   "source": [
    "\"\"\"\n",
    "DON'T MODIFY ANYTHING IN THIS CELL\n",
    "\"\"\"\n",
    "import helper\n",
    "import problem_unittests as tests\n",
    "\n",
    "source_path = 'data/small_vocab_en'\n",
    "target_path = 'data/small_vocab_fr'\n",
    "source_text = helper.load_data(source_path)\n",
    "target_text = helper.load_data(target_path)"
   ]
  },
  {
   "cell_type": "markdown",
   "metadata": {},
   "source": [
    "## Explore the Data\n",
    "Play around with view_sentence_range to view different parts of the data."
   ]
  },
  {
   "cell_type": "code",
   "execution_count": 98,
   "metadata": {
    "collapsed": false
   },
   "outputs": [
    {
     "name": "stdout",
     "output_type": "stream",
     "text": [
      "Dataset Stats\n",
      "Roughly the number of unique words: 227\n",
      "Number of sentences: 137861\n",
      "Average number of words in a sentence: 13.225277634719028\n",
      "\n",
      "English sentences 0 to 10:\n",
      "new jersey is sometimes quiet during autumn , and it is snowy in april .\n",
      "the united states is usually chilly during july , and it is usually freezing in november .\n",
      "california is usually quiet during march , and it is usually hot in june .\n",
      "the united states is sometimes mild during june , and it is cold in september .\n",
      "your least liked fruit is the grape , but my least liked is the apple .\n",
      "his favorite fruit is the orange , but my favorite is the grape .\n",
      "paris is relaxing during december , but it is usually chilly in july .\n",
      "new jersey is busy during spring , and it is never hot in march .\n",
      "our least liked fruit is the lemon , but my least liked is the grape .\n",
      "the united states is sometimes busy during january , and it is sometimes warm in november .\n",
      "\n",
      "French sentences 0 to 10:\n",
      "new jersey est parfois calme pendant l' automne , et il est neigeux en avril .\n",
      "les états-unis est généralement froid en juillet , et il gèle habituellement en novembre .\n",
      "california est généralement calme en mars , et il est généralement chaud en juin .\n",
      "les états-unis est parfois légère en juin , et il fait froid en septembre .\n",
      "votre moins aimé fruit est le raisin , mais mon moins aimé est la pomme .\n",
      "son fruit préféré est l'orange , mais mon préféré est le raisin .\n",
      "paris est relaxant en décembre , mais il est généralement froid en juillet .\n",
      "new jersey est occupé au printemps , et il est jamais chaude en mars .\n",
      "notre fruit est moins aimé le citron , mais mon moins aimé est le raisin .\n",
      "les états-unis est parfois occupé en janvier , et il est parfois chaud en novembre .\n"
     ]
    }
   ],
   "source": [
    "view_sentence_range = (0, 10)\n",
    "\n",
    "\"\"\"\n",
    "DON'T MODIFY ANYTHING IN THIS CELL\n",
    "\"\"\"\n",
    "import numpy as np\n",
    "\n",
    "print('Dataset Stats')\n",
    "print('Roughly the number of unique words: {}'.format(len({word: None for word in source_text.split()})))\n",
    "\n",
    "sentences = source_text.split('\\n')\n",
    "word_counts = [len(sentence.split()) for sentence in sentences]\n",
    "print('Number of sentences: {}'.format(len(sentences)))\n",
    "print('Average number of words in a sentence: {}'.format(np.average(word_counts)))\n",
    "\n",
    "print()\n",
    "print('English sentences {} to {}:'.format(*view_sentence_range))\n",
    "print('\\n'.join(source_text.split('\\n')[view_sentence_range[0]:view_sentence_range[1]]))\n",
    "print()\n",
    "print('French sentences {} to {}:'.format(*view_sentence_range))\n",
    "print('\\n'.join(target_text.split('\\n')[view_sentence_range[0]:view_sentence_range[1]]))"
   ]
  },
  {
   "cell_type": "markdown",
   "metadata": {},
   "source": [
    "## Implement Preprocessing Function\n",
    "### Text to Word Ids\n",
    "As you did with other RNNs, you must turn the text into a number so the computer can understand it. In the function `text_to_ids()`, you'll turn `source_text` and `target_text` from words to ids.  However, you need to add the `<EOS>` word id at the end of `target_text`.  This will help the neural network predict when the sentence should end.\n",
    "\n",
    "You can get the `<EOS>` word id by doing:\n",
    "```python\n",
    "target_vocab_to_int['<EOS>']\n",
    "```\n",
    "You can get other word ids using `source_vocab_to_int` and `target_vocab_to_int`."
   ]
  },
  {
   "cell_type": "code",
   "execution_count": 99,
   "metadata": {
    "collapsed": false
   },
   "outputs": [
    {
     "name": "stdout",
     "output_type": "stream",
     "text": [
      "Tests Passed\n"
     ]
    }
   ],
   "source": [
    "def text_to_ids(source_text, target_text, source_vocab_to_int, target_vocab_to_int):\n",
    "    \"\"\"\n",
    "    Convert source and target text to proper word ids\n",
    "    :param source_text: String that contains all the source text.\n",
    "    :param target_text: String that contains all the target text.\n",
    "    :param source_vocab_to_int: Dictionary to go from the source words to an id\n",
    "    :param target_vocab_to_int: Dictionary to go from the target words to an id\n",
    "    :return: A tuple of lists (source_id_text, target_id_text)\n",
    "    \"\"\"\n",
    "    # TODO: Implement Function\n",
    "    source_id_text = []\n",
    "    target_id_text = []\n",
    "    \n",
    "    for line in source_text.split('\\n'):\n",
    "        text_to_id = [source_vocab_to_int[word] for word in line.split(' ') if word in source_vocab_to_int]\n",
    "        source_id_text.append(text_to_id)\n",
    "        \n",
    "    for line in target_text.split('\\n'):\n",
    "        text_to_id = [target_vocab_to_int[word] for word in line.split(' ') if word in target_vocab_to_int]\n",
    "        text_to_id.append(target_vocab_to_int['<EOS>'])\n",
    "        target_id_text.append(text_to_id)\n",
    "    \n",
    "    return source_id_text, target_id_text\n",
    "\n",
    "\"\"\"\n",
    "DON'T MODIFY ANYTHING IN THIS CELL THAT IS BELOW THIS LINE\n",
    "\"\"\"\n",
    "tests.test_text_to_ids(text_to_ids)"
   ]
  },
  {
   "cell_type": "markdown",
   "metadata": {},
   "source": [
    "### Preprocess all the data and save it\n",
    "Running the code cell below will preprocess all the data and save it to file."
   ]
  },
  {
   "cell_type": "code",
   "execution_count": 100,
   "metadata": {
    "collapsed": false
   },
   "outputs": [],
   "source": [
    "\"\"\"\n",
    "DON'T MODIFY ANYTHING IN THIS CELL\n",
    "\"\"\"\n",
    "helper.preprocess_and_save_data(source_path, target_path, text_to_ids)"
   ]
  },
  {
   "cell_type": "markdown",
   "metadata": {},
   "source": [
    "# Check Point\n",
    "This is your first checkpoint. If you ever decide to come back to this notebook or have to restart the notebook, you can start from here. The preprocessed data has been saved to disk."
   ]
  },
  {
   "cell_type": "code",
   "execution_count": 101,
   "metadata": {
    "collapsed": true
   },
   "outputs": [],
   "source": [
    "\"\"\"\n",
    "DON'T MODIFY ANYTHING IN THIS CELL\n",
    "\"\"\"\n",
    "import numpy as np\n",
    "import helper\n",
    "import problem_unittests as tests\n",
    "\n",
    "(source_int_text, target_int_text), (source_vocab_to_int, target_vocab_to_int), _ = helper.load_preprocess()"
   ]
  },
  {
   "cell_type": "markdown",
   "metadata": {},
   "source": [
    "### Check the Version of TensorFlow and Access to GPU\n",
    "This will check to make sure you have the correct version of TensorFlow and access to a GPU"
   ]
  },
  {
   "cell_type": "code",
   "execution_count": 102,
   "metadata": {
    "collapsed": false
   },
   "outputs": [
    {
     "name": "stdout",
     "output_type": "stream",
     "text": [
      "TensorFlow Version: 1.1.0\n"
     ]
    },
    {
     "name": "stderr",
     "output_type": "stream",
     "text": [
      "C:\\Users\\boopalan\\Anaconda\\envs\\dlnd-tf-lab\\lib\\site-packages\\ipykernel\\__main__.py:15: UserWarning: No GPU found. Please use a GPU to train your neural network.\n"
     ]
    }
   ],
   "source": [
    "\"\"\"\n",
    "DON'T MODIFY ANYTHING IN THIS CELL\n",
    "\"\"\"\n",
    "from distutils.version import LooseVersion\n",
    "import warnings\n",
    "import tensorflow as tf\n",
    "from tensorflow.python.layers.core import Dense\n",
    "\n",
    "# Check TensorFlow Version\n",
    "assert LooseVersion(tf.__version__) >= LooseVersion('1.1'), 'Please use TensorFlow version 1.1 or newer'\n",
    "print('TensorFlow Version: {}'.format(tf.__version__))\n",
    "\n",
    "# Check for a GPU\n",
    "if not tf.test.gpu_device_name():\n",
    "    warnings.warn('No GPU found. Please use a GPU to train your neural network.')\n",
    "else:\n",
    "    print('Default GPU Device: {}'.format(tf.test.gpu_device_name()))"
   ]
  },
  {
   "cell_type": "markdown",
   "metadata": {},
   "source": [
    "## Build the Neural Network\n",
    "You'll build the components necessary to build a Sequence-to-Sequence model by implementing the following functions below:\n",
    "- `model_inputs`\n",
    "- `process_decoder_input`\n",
    "- `encoding_layer`\n",
    "- `decoding_layer_train`\n",
    "- `decoding_layer_infer`\n",
    "- `decoding_layer`\n",
    "- `seq2seq_model`\n",
    "\n",
    "### Input\n",
    "Implement the `model_inputs()` function to create TF Placeholders for the Neural Network. It should create the following placeholders:\n",
    "\n",
    "- Input text placeholder named \"input\" using the TF Placeholder name parameter with rank 2.\n",
    "- Targets placeholder with rank 2.\n",
    "- Learning rate placeholder with rank 0.\n",
    "- Keep probability placeholder named \"keep_prob\" using the TF Placeholder name parameter with rank 0.\n",
    "- Target sequence length placeholder named \"target_sequence_length\" with rank 1\n",
    "- Max target sequence length tensor named \"max_target_len\" getting its value from applying tf.reduce_max on the target_sequence_length placeholder. Rank 0.\n",
    "- Source sequence length placeholder named \"source_sequence_length\" with rank 1\n",
    "\n",
    "Return the placeholders in the following the tuple (input, targets, learning rate, keep probability, target sequence length, max target sequence length, source sequence length)"
   ]
  },
  {
   "cell_type": "code",
   "execution_count": 103,
   "metadata": {
    "collapsed": false
   },
   "outputs": [
    {
     "name": "stdout",
     "output_type": "stream",
     "text": [
      "Tests Passed\n"
     ]
    }
   ],
   "source": [
    "def model_inputs():\n",
    "    \"\"\"\n",
    "    Create TF Placeholders for input, targets, learning rate, and lengths of source and target sequences.\n",
    "    :return: Tuple (input, targets, learning rate, keep probability, target sequence length,\n",
    "    max target sequence length, source sequence length)\n",
    "    \"\"\"\n",
    "    source_sequence_length = tf.placeholder(tf.int32, [None], name='source_sequence_length')\n",
    "    target_sequence_length = tf.placeholder(tf.int32, [None], name='target_sequence_length')\n",
    "    max_target_sequence_length = tf.reduce_max(target_sequence_length, name='max_target_len')\n",
    "    inputs = tf.placeholder(tf.int32, [None, None], name='input')\n",
    "    targets = tf.placeholder(tf.int32, [None, None], name= 'targets')\n",
    "    learning_rate = tf.placeholder(tf.float32, name='learning_rate')\n",
    "    keep_prob = tf.placeholder(tf.float32, name='keep_prob')\n",
    "    # TODO: Implement Function\n",
    "    return inputs, targets, learning_rate, keep_prob, target_sequence_length, max_target_sequence_length, source_sequence_length\n",
    "\n",
    "\n",
    "\"\"\"\n",
    "DON'T MODIFY ANYTHING IN THIS CELL THAT IS BELOW THIS LINE\n",
    "\"\"\"\n",
    "tests.test_model_inputs(model_inputs)"
   ]
  },
  {
   "cell_type": "markdown",
   "metadata": {},
   "source": [
    "### Process Decoder Input\n",
    "Implement `process_decoder_input` by removing the last word id from each batch in `target_data` and concat the GO ID to the begining of each batch."
   ]
  },
  {
   "cell_type": "code",
   "execution_count": 104,
   "metadata": {
    "collapsed": false
   },
   "outputs": [
    {
     "name": "stdout",
     "output_type": "stream",
     "text": [
      "Help on function strided_slice in module tensorflow.python.ops.array_ops:\n",
      "\n",
      "strided_slice(input_, begin, end, strides=None, begin_mask=0, end_mask=0, ellipsis_mask=0, new_axis_mask=0, shrink_axis_mask=0, var=None, name=None)\n",
      "    Extracts a strided slice from a tensor.\n",
      "    \n",
      "    To a first order, this operation extracts a slice of size `end - begin`\n",
      "    from a tensor `input`\n",
      "    starting at the location specified by `begin`. The slice continues by adding\n",
      "    `stride` to the `begin` index until all dimensions are not less than `end`.\n",
      "    Note that components of stride can be negative, which causes a reverse\n",
      "    slice.\n",
      "    \n",
      "    This operation can be thought of an encoding of a numpy style sliced\n",
      "    range. Given a python slice input[<spec0>, <spec1>, ..., <specn>]\n",
      "    this function will be called as follows.\n",
      "    \n",
      "    `begin`, `end`, and `strides` will be all length n. n is in general\n",
      "    not the same dimensionality as `input`.\n",
      "    \n",
      "    For the ith spec,\n",
      "    `begin_mask`, `end_mask`, `ellipsis_mask`, `new_axis_mask`,\n",
      "    and `shrink_axis_mask` will have the ith bit corresponding to\n",
      "    the ith spec.\n",
      "    \n",
      "    If the ith bit of `begin_mask` is non-zero, `begin[i]` is ignored and\n",
      "    the fullest possible range in that dimension is used instead.\n",
      "    `end_mask` works analogously, except with the end range.\n",
      "    \n",
      "    `foo[5:,:,:3]` on a 7x8x9 tensor is equivalent to `foo[5:7,0:8,0:3]`.\n",
      "    `foo[::-1]` reverses a tensor with shape 8.\n",
      "    \n",
      "    \n",
      "    If the ith bit of `ellipsis_mask` is non-zero, as many unspecified dimensions\n",
      "    as needed will be inserted between other dimensions. Only one\n",
      "    non-zero bit is allowed in `ellipsis_mask`.\n",
      "    \n",
      "    For example `foo[3:5,...,4:5]` on a shape 10x3x3x10 tensor is\n",
      "    equivalent to `foo[3:5,:,:,4:5]` and\n",
      "    `foo[3:5,...]` is equivalent to `foo[3:5,:,:,:]`.\n",
      "    \n",
      "    If the ith bit of `new_axis_mask` is one, then `begin`,\n",
      "    `end`, and `stride` are ignored and a new length 1 dimension is\n",
      "    added at this point in the output tensor.\n",
      "    \n",
      "    For example `foo[3:5,4]` on a 10x8 tensor produces a shape 2 tensor\n",
      "    whereas `foo[3:5,4:5]` produces a shape 2x1 tensor with shrink_mask\n",
      "    being 1<<1 == 2.\n",
      "    \n",
      "    If the ith bit of `shrink_axis_mask` is one, then `begin`,\n",
      "    `end[i]`, and `stride[i]` are used to do a slice in the appropriate\n",
      "    dimension, but the output tensor will be reduced in dimensionality\n",
      "    by one. This is only valid if the ith entry of slice[i]==1.\n",
      "    \n",
      "    NOTE: `begin` and `end` are zero-indexed`.\n",
      "    `strides` entries must be non-zero.\n",
      "    \n",
      "    \n",
      "    ```python\n",
      "    # 'input' is [[[1, 1, 1], [2, 2, 2]],\n",
      "    #             [[3, 3, 3], [4, 4, 4]],\n",
      "    #             [[5, 5, 5], [6, 6, 6]]]\n",
      "    tf.strided_slice(input, [1, 0, 0], [2, 1, 3], [1, 1, 1]) ==> [[[3, 3, 3]]]\n",
      "    tf.strided_slice(input, [1, 0, 0], [2, 2, 3], [1, 1, 1]) ==> [[[3, 3, 3],\n",
      "                                                                   [4, 4, 4]]]\n",
      "    tf.strided_slice(input, [1, -1, 0], [2, -3, 3], [1, -1, 1]) ==>[[[4, 4, 4],\n",
      "                                                                     [3, 3, 3]]]\n",
      "    ```\n",
      "    \n",
      "    Args:\n",
      "      input_: A `Tensor`.\n",
      "      begin: An `int32` or `int64` `Tensor`.\n",
      "      end: An `int32` or `int64` `Tensor`.\n",
      "      strides: An `int32` or `int64` `Tensor`.\n",
      "      begin_mask: An `int32` mask.\n",
      "      end_mask: An `int32` mask.\n",
      "      ellipsis_mask: An `int32` mask.\n",
      "      new_axis_mask: An `int32` mask.\n",
      "      shrink_axis_mask: An `int32` mask.\n",
      "      var: The variable corresponding to `input_` or None\n",
      "      name: A name for the operation (optional).\n",
      "    \n",
      "    Returns:\n",
      "      A `Tensor` the same type as `input`.\n",
      "\n"
     ]
    }
   ],
   "source": [
    "help(tf.strided_slice)"
   ]
  },
  {
   "cell_type": "code",
   "execution_count": 105,
   "metadata": {
    "collapsed": false
   },
   "outputs": [
    {
     "name": "stdout",
     "output_type": "stream",
     "text": [
      "Tests Passed\n"
     ]
    }
   ],
   "source": [
    "def process_decoder_input(target_data, target_vocab_to_int, batch_size):\n",
    "    \"\"\"\n",
    "    Preprocess target data for encoding\n",
    "    :param target_data: Target Placehoder\n",
    "    :param target_vocab_to_int: Dictionary to go from the target words to an id\n",
    "    :param batch_size: Batch Size\n",
    "    :return: Preprocessed target data\n",
    "    \"\"\"\n",
    "    # TODO: Implement Function\n",
    "    target_data_clipped = tf.strided_slice(target_data, [0,0], [batch_size, -1], [1,1])\n",
    "    first_col = tf.fill([batch_size, 1], target_vocab_to_int['<GO>'])\n",
    "    target_data_final = tf.concat([first_col, target_data_clipped],axis=1)\n",
    "    return target_data_final\n",
    "\n",
    "\"\"\"\n",
    "DON'T MODIFY ANYTHING IN THIS CELL THAT IS BELOW THIS LINE\n",
    "\"\"\"\n",
    "tests.test_process_encoding_input(process_decoder_input)"
   ]
  },
  {
   "cell_type": "markdown",
   "metadata": {},
   "source": [
    "### Encoding\n",
    "Implement `encoding_layer()` to create a Encoder RNN layer:\n",
    " * Embed the encoder input using [`tf.contrib.layers.embed_sequence`](https://www.tensorflow.org/api_docs/python/tf/contrib/layers/embed_sequence)\n",
    " * Construct a [stacked](https://github.com/tensorflow/tensorflow/blob/6947f65a374ebf29e74bb71e36fd82760056d82c/tensorflow/docs_src/tutorials/recurrent.md#stacking-multiple-lstms) [`tf.contrib.rnn.LSTMCell`](https://www.tensorflow.org/api_docs/python/tf/contrib/rnn/LSTMCell) wrapped in a [`tf.contrib.rnn.DropoutWrapper`](https://www.tensorflow.org/api_docs/python/tf/contrib/rnn/DropoutWrapper)\n",
    " * Pass cell and embedded input to [`tf.nn.dynamic_rnn()`](https://www.tensorflow.org/api_docs/python/tf/nn/dynamic_rnn)"
   ]
  },
  {
   "cell_type": "code",
   "execution_count": 106,
   "metadata": {
    "collapsed": false,
    "scrolled": false
   },
   "outputs": [
    {
     "name": "stdout",
     "output_type": "stream",
     "text": [
      "Tests Passed\n"
     ]
    }
   ],
   "source": [
    "from imp import reload\n",
    "reload(tests)\n",
    "\n",
    "def encoding_layer(rnn_inputs, rnn_size, num_layers, keep_prob, \n",
    "                   source_sequence_length, source_vocab_size, \n",
    "                   encoding_embedding_size):\n",
    "    \"\"\"\n",
    "    Create encoding layer\n",
    "    :param rnn_inputs: Inputs for the RNN\n",
    "    :param rnn_size: RNN Size\n",
    "    :param num_layers: Number of layers\n",
    "    :param keep_prob: Dropout keep probability\n",
    "    :param source_sequence_length: a list of the lengths of each sequence in the batch\n",
    "    :param source_vocab_size: vocabulary size of source data\n",
    "    :param encoding_embedding_size: embedding size of source data\n",
    "    :return: tuple (RNN output, RNN state)\n",
    "    \"\"\"\n",
    "    # TODO: Implement Function\n",
    "    #encoder embeddings\n",
    "    embed_sequence_input = tf.contrib.layers.embed_sequence(rnn_inputs, source_vocab_size, encoding_embedding_size)\n",
    "    \n",
    "    #make cell function with dropout\n",
    "    def make_cell(rnn_size, keep_prob):\n",
    "        enc_lstm = tf.contrib.rnn.LSTMCell(rnn_size, initializer= tf.random_uniform_initializer(-0.1, 0.1, seed=2))\n",
    "        enc_dropout = tf.contrib.rnn.DropoutWrapper(enc_lstm, output_keep_prob=keep_prob)\n",
    "        return enc_dropout\n",
    "    \n",
    "    #multi stacked-cells layer \n",
    "    enc_cell_layer = tf.contrib.rnn.MultiRNNCell([make_cell(rnn_size, keep_prob) for _ in range(num_layers)])\n",
    "    \n",
    "    # output and state\n",
    "    encoder_output, output_state = tf.nn.dynamic_rnn(enc_cell_layer, embed_sequence_input, sequence_length=source_sequence_length, dtype=tf.float32)\n",
    "    \n",
    "    return encoder_output, output_state\n",
    "\n",
    "\"\"\"\n",
    "DON'T MODIFY ANYTHING IN THIS CELL THAT IS BELOW THIS LINE\n",
    "\"\"\"\n",
    "tests.test_encoding_layer(encoding_layer)"
   ]
  },
  {
   "cell_type": "markdown",
   "metadata": {},
   "source": [
    "### Decoding - Training\n",
    "Create a training decoding layer:\n",
    "* Create a [`tf.contrib.seq2seq.TrainingHelper`](https://www.tensorflow.org/api_docs/python/tf/contrib/seq2seq/TrainingHelper) \n",
    "* Create a [`tf.contrib.seq2seq.BasicDecoder`](https://www.tensorflow.org/api_docs/python/tf/contrib/seq2seq/BasicDecoder)\n",
    "* Obtain the decoder outputs from [`tf.contrib.seq2seq.dynamic_decode`](https://www.tensorflow.org/api_docs/python/tf/contrib/seq2seq/dynamic_decode)"
   ]
  },
  {
   "cell_type": "code",
   "execution_count": 107,
   "metadata": {
    "collapsed": false
   },
   "outputs": [
    {
     "name": "stdout",
     "output_type": "stream",
     "text": [
      "Tests Passed\n"
     ]
    }
   ],
   "source": [
    "\n",
    "def decoding_layer_train(encoder_state, dec_cell, dec_embed_input, \n",
    "                         target_sequence_length, max_summary_length, \n",
    "                         output_layer, keep_prob):\n",
    "    \"\"\"\n",
    "    Create a decoding layer for training\n",
    "    :param encoder_state: Encoder State\n",
    "    :param dec_cell: Decoder RNN Cell\n",
    "    :param dec_embed_input: Decoder embedded input\n",
    "    :param target_sequence_length: The lengths of each sequence in the target batch\n",
    "    :param max_summary_length: The length of the longest sequence in the batch\n",
    "    :param output_layer: Function to apply the output layer\n",
    "    :param keep_prob: Dropout keep probability\n",
    "    :return: BasicDecoderOutput containing training logits and sample_id\n",
    "    \"\"\"\n",
    "    # TODO: Implement Function\n",
    "    training_helper = tf.contrib.seq2seq.TrainingHelper(inputs=dec_embed_input, sequence_length=target_sequence_length, time_major=False)\n",
    "    training_decoder = tf.contrib.seq2seq.BasicDecoder(dec_cell, training_helper, encoder_state, output_layer)\n",
    "    dec_outputs = tf.contrib.seq2seq.dynamic_decode(decoder=training_decoder, impute_finished=True, maximum_iterations=max_summary_length)[0]\n",
    "    return dec_outputs\n",
    "\n",
    "\n",
    "\n",
    "\"\"\"\n",
    "DON'T MODIFY ANYTHING IN THIS CELL THAT IS BELOW THIS LINE\n",
    "\"\"\"\n",
    "tests.test_decoding_layer_train(decoding_layer_train)"
   ]
  },
  {
   "cell_type": "markdown",
   "metadata": {},
   "source": [
    "### Decoding - Inference\n",
    "Create inference decoder:\n",
    "* Create a [`tf.contrib.seq2seq.GreedyEmbeddingHelper`](https://www.tensorflow.org/api_docs/python/tf/contrib/seq2seq/GreedyEmbeddingHelper)\n",
    "* Create a [`tf.contrib.seq2seq.BasicDecoder`](https://www.tensorflow.org/api_docs/python/tf/contrib/seq2seq/BasicDecoder)\n",
    "* Obtain the decoder outputs from [`tf.contrib.seq2seq.dynamic_decode`](https://www.tensorflow.org/api_docs/python/tf/contrib/seq2seq/dynamic_decode)"
   ]
  },
  {
   "cell_type": "code",
   "execution_count": 108,
   "metadata": {
    "collapsed": false,
    "scrolled": true
   },
   "outputs": [
    {
     "name": "stdout",
     "output_type": "stream",
     "text": [
      "Tests Passed\n"
     ]
    }
   ],
   "source": [
    "def decoding_layer_infer(encoder_state, dec_cell, dec_embeddings, start_of_sequence_id,\n",
    "                         end_of_sequence_id, max_target_sequence_length,\n",
    "                         vocab_size, output_layer, batch_size, keep_prob):\n",
    "    \"\"\"\n",
    "    Create a decoding layer for inference\n",
    "    :param encoder_state: Encoder state\n",
    "    :param dec_cell: Decoder RNN Cell\n",
    "    :param dec_embeddings: Decoder embeddings\n",
    "    :param start_of_sequence_id: GO ID\n",
    "    :param end_of_sequence_id: EOS Id\n",
    "    :param max_target_sequence_length: Maximum length of target sequences\n",
    "    :param vocab_size: Size of decoder/target vocabulary\n",
    "    :param decoding_scope: TenorFlow Variable Scope for decoding\n",
    "    :param output_layer: Function to apply the output layer\n",
    "    :param batch_size: Batch size\n",
    "    :param keep_prob: Dropout keep probability\n",
    "    :return: BasicDecoderOutput containing inference logits and sample_id\n",
    "    \"\"\"\n",
    "    # TODO: Implement Function\n",
    "    start_tokens = tf.tile(tf.constant([start_of_sequence_id], dtype=tf.int32), [batch_size], name='start_tokens')\n",
    "    inference_helper = tf.contrib.seq2seq.GreedyEmbeddingHelper(dec_embeddings, start_tokens, end_of_sequence_id)\n",
    "    inference_decoder = tf.contrib.seq2seq.BasicDecoder(dec_cell, inference_helper, encoder_state, output_layer)\n",
    "    inference_decoder_output = tf.contrib.seq2seq.dynamic_decode(inference_decoder, impute_finished=True, maximum_iterations=max_target_sequence_length)[0]\n",
    "    \n",
    "    return inference_decoder_output\n",
    "\n",
    "\n",
    "\n",
    "\"\"\"\n",
    "DON'T MODIFY ANYTHING IN THIS CELL THAT IS BELOW THIS LINE\n",
    "\"\"\"\n",
    "tests.test_decoding_layer_infer(decoding_layer_infer)"
   ]
  },
  {
   "cell_type": "markdown",
   "metadata": {},
   "source": [
    "### Build the Decoding Layer\n",
    "Implement `decoding_layer()` to create a Decoder RNN layer.\n",
    "\n",
    "* Embed the target sequences\n",
    "* Construct the decoder LSTM cell (just like you constructed the encoder cell above)\n",
    "* Create an output layer to map the outputs of the decoder to the elements of our vocabulary\n",
    "* Use the your `decoding_layer_train(encoder_state, dec_cell, dec_embed_input, target_sequence_length, max_target_sequence_length, output_layer, keep_prob)` function to get the training logits.\n",
    "* Use your `decoding_layer_infer(encoder_state, dec_cell, dec_embeddings, start_of_sequence_id, end_of_sequence_id, max_target_sequence_length, vocab_size, output_layer, batch_size, keep_prob)` function to get the inference logits.\n",
    "\n",
    "Note: You'll need to use [tf.variable_scope](https://www.tensorflow.org/api_docs/python/tf/variable_scope) to share variables between training and inference."
   ]
  },
  {
   "cell_type": "code",
   "execution_count": 109,
   "metadata": {
    "collapsed": false
   },
   "outputs": [
    {
     "name": "stdout",
     "output_type": "stream",
     "text": [
      "Tests Passed\n"
     ]
    }
   ],
   "source": [
    "def decoding_layer(dec_input, encoder_state,\n",
    "                   target_sequence_length, max_target_sequence_length,\n",
    "                   rnn_size,\n",
    "                   num_layers, target_vocab_to_int, target_vocab_size,\n",
    "                   batch_size, keep_prob, decoding_embedding_size):\n",
    "    \"\"\"\n",
    "    Create decoding layer\n",
    "    :param dec_input: Decoder input\n",
    "    :param encoder_state: Encoder state\n",
    "    :param target_sequence_length: The lengths of each sequence in the target batch\n",
    "    :param max_target_sequence_length: Maximum length of target sequences\n",
    "    :param rnn_size: RNN Size\n",
    "    :param num_layers: Number of layers\n",
    "    :param target_vocab_to_int: Dictionary to go from the target words to an id\n",
    "    :param target_vocab_size: Size of target vocabulary\n",
    "    :param batch_size: The size of the batch\n",
    "    :param keep_prob: Dropout keep probability\n",
    "    :param decoding_embedding_size: Decoding embedding size\n",
    "    :return: Tuple of (Training BasicDecoderOutput, Inference BasicDecoderOutput)\n",
    "    \"\"\"\n",
    "    # TODO: Implement Function\n",
    "    #decoder embedding lookup\n",
    "    dec_embeddings = tf.Variable(tf.random_uniform([target_vocab_size, decoding_embedding_size]))\n",
    "    dec_embed_input = tf.nn.embedding_lookup(dec_embeddings, dec_input)\n",
    "\n",
    "    #make cell function with dropout\n",
    "    def make_dec_cell(rnn_size, keep_prob):\n",
    "        dec_lstm = tf.contrib.rnn.LSTMCell(rnn_size, initializer= tf.random_uniform_initializer(-0.1, 0.1, seed=2))\n",
    "        dec_dropout = tf.contrib.rnn.DropoutWrapper(dec_lstm, output_keep_prob=keep_prob)\n",
    "        return dec_dropout\n",
    "\n",
    "    #with tf.variable_scope(\"decode\") as decoding_scope:\n",
    "    #multi layered stacked-cell structure\n",
    "    dec_cell_layer = tf.contrib.rnn.MultiRNNCell([make_dec_cell(rnn_size, keep_prob) for _ in range(num_layers)])\n",
    "\n",
    "    #dense output\n",
    "    dec_output_layer = Dense(target_vocab_size, kernel_initializer=tf.truncated_normal_initializer(mean = 0.0, stddev=0.1))\n",
    "\n",
    "    #training decoder\n",
    "    with tf.variable_scope(\"decode\") as decoding_scope:\n",
    "        training_logits = decoding_layer_train(encoder_state, dec_cell_layer, dec_embed_input, target_sequence_length, max_target_sequence_length, dec_output_layer, keep_prob)\n",
    "\n",
    "    start_of_sequence_id = target_vocab_to_int['<GO>']\n",
    "    end_of_sequence_id = target_vocab_to_int['<EOS>']\n",
    "    #inference decoder\n",
    "    with tf.variable_scope(\"decode\", reuse=True) as decoding_scope:\n",
    "        inference_logits = decoding_layer_infer(encoder_state, dec_cell_layer, dec_embeddings, start_of_sequence_id, end_of_sequence_id, max_target_sequence_length, target_vocab_size, dec_output_layer, batch_size, keep_prob)\n",
    "        \n",
    "    return training_logits, inference_logits\n",
    "\n",
    "\n",
    "\n",
    "\"\"\"\n",
    "DON'T MODIFY ANYTHING IN THIS CELL THAT IS BELOW THIS LINE\n",
    "\"\"\"\n",
    "tests.test_decoding_layer(decoding_layer)"
   ]
  },
  {
   "cell_type": "markdown",
   "metadata": {},
   "source": [
    "### Build the Neural Network\n",
    "Apply the functions you implemented above to:\n",
    "\n",
    "- Encode the input using your `encoding_layer(rnn_inputs, rnn_size, num_layers, keep_prob,  source_sequence_length, source_vocab_size, encoding_embedding_size)`.\n",
    "- Process target data using your `process_decoder_input(target_data, target_vocab_to_int, batch_size)` function.\n",
    "- Decode the encoded input using your `decoding_layer(dec_input, enc_state, target_sequence_length, max_target_sentence_length, rnn_size, num_layers, target_vocab_to_int, target_vocab_size, batch_size, keep_prob, dec_embedding_size)` function."
   ]
  },
  {
   "cell_type": "code",
   "execution_count": 110,
   "metadata": {
    "collapsed": false
   },
   "outputs": [
    {
     "name": "stdout",
     "output_type": "stream",
     "text": [
      "Tests Passed\n"
     ]
    }
   ],
   "source": [
    "def seq2seq_model(input_data, target_data, keep_prob, batch_size,\n",
    "                  source_sequence_length, target_sequence_length,\n",
    "                  max_target_sentence_length,\n",
    "                  source_vocab_size, target_vocab_size,\n",
    "                  enc_embedding_size, dec_embedding_size,\n",
    "                  rnn_size, num_layers, target_vocab_to_int):\n",
    "    \"\"\"\n",
    "    Build the Sequence-to-Sequence part of the neural network\n",
    "    :param input_data: Input placeholder\n",
    "    :param target_data: Target placeholder\n",
    "    :param keep_prob: Dropout keep probability placeholder\n",
    "    :param batch_size: Batch Size\n",
    "    :param source_sequence_length: Sequence Lengths of source sequences in the batch\n",
    "    :param target_sequence_length: Sequence Lengths of target sequences in the batch\n",
    "    :param source_vocab_size: Source vocabulary size\n",
    "    :param target_vocab_size: Target vocabulary size\n",
    "    :param enc_embedding_size: Decoder embedding size\n",
    "    :param dec_embedding_size: Encoder embedding size\n",
    "    :param rnn_size: RNN Size\n",
    "    :param num_layers: Number of layers\n",
    "    :param target_vocab_to_int: Dictionary to go from the target words to an id\n",
    "    :return: Tuple of (Training BasicDecoderOutput, Inference BasicDecoderOutput)\n",
    "    \"\"\"\n",
    "    # TODO: Implement Function\n",
    "    _, encoder_output = encoding_layer(input_data, rnn_size, num_layers, keep_prob,  source_sequence_length, source_vocab_size, enc_embedding_size)\n",
    "    processed_target_data = process_decoder_input(target_data, target_vocab_to_int, batch_size)\n",
    "    training_logits, inference_logits = decoding_layer(processed_target_data, encoder_output, target_sequence_length, max_target_sentence_length, rnn_size, num_layers, target_vocab_to_int, target_vocab_size, batch_size, keep_prob, dec_embedding_size)\n",
    "    \n",
    "    return training_logits, inference_logits\n",
    "\n",
    "\n",
    "\"\"\"\n",
    "DON'T MODIFY ANYTHING IN THIS CELL THAT IS BELOW THIS LINE\n",
    "\"\"\"\n",
    "tests.test_seq2seq_model(seq2seq_model)"
   ]
  },
  {
   "cell_type": "markdown",
   "metadata": {},
   "source": [
    "## Neural Network Training\n",
    "### Hyperparameters\n",
    "Tune the following parameters:\n",
    "\n",
    "- Set `epochs` to the number of epochs.\n",
    "- Set `batch_size` to the batch size.\n",
    "- Set `rnn_size` to the size of the RNNs.\n",
    "- Set `num_layers` to the number of layers.\n",
    "- Set `encoding_embedding_size` to the size of the embedding for the encoder.\n",
    "- Set `decoding_embedding_size` to the size of the embedding for the decoder.\n",
    "- Set `learning_rate` to the learning rate.\n",
    "- Set `keep_probability` to the Dropout keep probability\n",
    "- Set `display_step` to state how many steps between each debug output statement"
   ]
  },
  {
   "cell_type": "code",
   "execution_count": 111,
   "metadata": {
    "collapsed": true
   },
   "outputs": [],
   "source": [
    "# Number of Epochs\n",
    "epochs = 3\n",
    "# Batch Size\n",
    "batch_size = 128\n",
    "# RNN Size\n",
    "rnn_size = 512\n",
    "# Number of Layers\n",
    "num_layers = 2\n",
    "# Embedding Size\n",
    "encoding_embedding_size = 200\n",
    "decoding_embedding_size = 200\n",
    "# Learning Rate\n",
    "learning_rate = 0.001\n",
    "# Dropout Keep Probability\n",
    "keep_probability = 0.75\n",
    "display_step = 10"
   ]
  },
  {
   "cell_type": "markdown",
   "metadata": {},
   "source": [
    "### Build the Graph\n",
    "Build the graph using the neural network you implemented."
   ]
  },
  {
   "cell_type": "code",
   "execution_count": 112,
   "metadata": {
    "collapsed": true
   },
   "outputs": [],
   "source": [
    "\"\"\"\n",
    "DON'T MODIFY ANYTHING IN THIS CELL\n",
    "\"\"\"\n",
    "save_path = 'checkpoints/dev'\n",
    "(source_int_text, target_int_text), (source_vocab_to_int, target_vocab_to_int), _ = helper.load_preprocess()\n",
    "max_target_sentence_length = max([len(sentence) for sentence in source_int_text])\n",
    "\n",
    "train_graph = tf.Graph()\n",
    "with train_graph.as_default():\n",
    "    input_data, targets, lr, keep_prob, target_sequence_length, max_target_sequence_length, source_sequence_length = model_inputs()\n",
    "\n",
    "    #sequence_length = tf.placeholder_with_default(max_target_sentence_length, None, name='sequence_length')\n",
    "    input_shape = tf.shape(input_data)\n",
    "\n",
    "    train_logits, inference_logits = seq2seq_model(tf.reverse(input_data, [-1]),\n",
    "                                                   targets,\n",
    "                                                   keep_prob,\n",
    "                                                   batch_size,\n",
    "                                                   source_sequence_length,\n",
    "                                                   target_sequence_length,\n",
    "                                                   max_target_sequence_length,\n",
    "                                                   len(source_vocab_to_int),\n",
    "                                                   len(target_vocab_to_int),\n",
    "                                                   encoding_embedding_size,\n",
    "                                                   decoding_embedding_size,\n",
    "                                                   rnn_size,\n",
    "                                                   num_layers,\n",
    "                                                   target_vocab_to_int)\n",
    "\n",
    "\n",
    "    training_logits = tf.identity(train_logits.rnn_output, name='logits')\n",
    "    inference_logits = tf.identity(inference_logits.sample_id, name='predictions')\n",
    "\n",
    "    masks = tf.sequence_mask(target_sequence_length, max_target_sequence_length, dtype=tf.float32, name='masks')\n",
    "\n",
    "    with tf.name_scope(\"optimization\"):\n",
    "        # Loss function\n",
    "        cost = tf.contrib.seq2seq.sequence_loss(\n",
    "            training_logits,\n",
    "            targets,\n",
    "            masks)\n",
    "\n",
    "        # Optimizer\n",
    "        optimizer = tf.train.AdamOptimizer(lr)\n",
    "\n",
    "        # Gradient Clipping\n",
    "        gradients = optimizer.compute_gradients(cost)\n",
    "        capped_gradients = [(tf.clip_by_value(grad, -1., 1.), var) for grad, var in gradients if grad is not None]\n",
    "        train_op = optimizer.apply_gradients(capped_gradients)\n"
   ]
  },
  {
   "cell_type": "markdown",
   "metadata": {},
   "source": [
    "Batch and pad the source and target sequences"
   ]
  },
  {
   "cell_type": "code",
   "execution_count": 113,
   "metadata": {
    "collapsed": true
   },
   "outputs": [],
   "source": [
    "\"\"\"\n",
    "DON'T MODIFY ANYTHING IN THIS CELL\n",
    "\"\"\"\n",
    "def pad_sentence_batch(sentence_batch, pad_int):\n",
    "    \"\"\"Pad sentences with <PAD> so that each sentence of a batch has the same length\"\"\"\n",
    "    max_sentence = max([len(sentence) for sentence in sentence_batch])\n",
    "    return [sentence + [pad_int] * (max_sentence - len(sentence)) for sentence in sentence_batch]\n",
    "\n",
    "\n",
    "def get_batches(sources, targets, batch_size, source_pad_int, target_pad_int):\n",
    "    \"\"\"Batch targets, sources, and the lengths of their sentences together\"\"\"\n",
    "    for batch_i in range(0, len(sources)//batch_size):\n",
    "        start_i = batch_i * batch_size\n",
    "\n",
    "        # Slice the right amount for the batch\n",
    "        sources_batch = sources[start_i:start_i + batch_size]\n",
    "        targets_batch = targets[start_i:start_i + batch_size]\n",
    "\n",
    "        # Pad\n",
    "        pad_sources_batch = np.array(pad_sentence_batch(sources_batch, source_pad_int))\n",
    "        pad_targets_batch = np.array(pad_sentence_batch(targets_batch, target_pad_int))\n",
    "\n",
    "        # Need the lengths for the _lengths parameters\n",
    "        pad_targets_lengths = []\n",
    "        for target in pad_targets_batch:\n",
    "            pad_targets_lengths.append(len(target))\n",
    "\n",
    "        pad_source_lengths = []\n",
    "        for source in pad_sources_batch:\n",
    "            pad_source_lengths.append(len(source))\n",
    "\n",
    "        yield pad_sources_batch, pad_targets_batch, pad_source_lengths, pad_targets_lengths\n"
   ]
  },
  {
   "cell_type": "markdown",
   "metadata": {},
   "source": [
    "### Train\n",
    "Train the neural network on the preprocessed data. If you have a hard time getting a good loss, check the forms to see if anyone is having the same problem."
   ]
  },
  {
   "cell_type": "code",
   "execution_count": 114,
   "metadata": {
    "collapsed": false,
    "scrolled": true
   },
   "outputs": [
    {
     "name": "stdout",
     "output_type": "stream",
     "text": [
      "Epoch   0 Batch   10/1077 - Train Accuracy: 0.2837, Validation Accuracy: 0.3800, Loss: 3.5594\n",
      "Epoch   0 Batch   20/1077 - Train Accuracy: 0.3867, Validation Accuracy: 0.4482, Loss: 2.7913\n",
      "Epoch   0 Batch   30/1077 - Train Accuracy: 0.4211, Validation Accuracy: 0.4741, Loss: 2.4722\n",
      "Epoch   0 Batch   40/1077 - Train Accuracy: 0.4422, Validation Accuracy: 0.4954, Loss: 2.2612\n",
      "Epoch   0 Batch   50/1077 - Train Accuracy: 0.4207, Validation Accuracy: 0.4801, Loss: 2.0938\n",
      "Epoch   0 Batch   60/1077 - Train Accuracy: 0.4449, Validation Accuracy: 0.4876, Loss: 1.8014\n",
      "Epoch   0 Batch   70/1077 - Train Accuracy: 0.3639, Validation Accuracy: 0.4538, Loss: 1.7655\n",
      "Epoch   0 Batch   80/1077 - Train Accuracy: 0.4313, Validation Accuracy: 0.4972, Loss: 1.5691\n",
      "Epoch   0 Batch   90/1077 - Train Accuracy: 0.4488, Validation Accuracy: 0.4972, Loss: 1.5259\n",
      "Epoch   0 Batch  100/1077 - Train Accuracy: 0.4582, Validation Accuracy: 0.5004, Loss: 1.3993\n",
      "Epoch   0 Batch  110/1077 - Train Accuracy: 0.4766, Validation Accuracy: 0.4783, Loss: 1.2665\n",
      "Epoch   0 Batch  120/1077 - Train Accuracy: 0.4836, Validation Accuracy: 0.5501, Loss: 1.2446\n",
      "Epoch   0 Batch  130/1077 - Train Accuracy: 0.4948, Validation Accuracy: 0.5185, Loss: 1.0998\n",
      "Epoch   0 Batch  140/1077 - Train Accuracy: 0.4873, Validation Accuracy: 0.5476, Loss: 1.1340\n",
      "Epoch   0 Batch  150/1077 - Train Accuracy: 0.5402, Validation Accuracy: 0.5529, Loss: 0.9922\n",
      "Epoch   0 Batch  160/1077 - Train Accuracy: 0.5637, Validation Accuracy: 0.5671, Loss: 0.9628\n",
      "Epoch   0 Batch  170/1077 - Train Accuracy: 0.5305, Validation Accuracy: 0.5621, Loss: 0.9385\n",
      "Epoch   0 Batch  180/1077 - Train Accuracy: 0.5594, Validation Accuracy: 0.5941, Loss: 0.8976\n",
      "Epoch   0 Batch  190/1077 - Train Accuracy: 0.6109, Validation Accuracy: 0.5863, Loss: 0.8403\n",
      "Epoch   0 Batch  200/1077 - Train Accuracy: 0.5617, Validation Accuracy: 0.5923, Loss: 0.8593\n",
      "Epoch   0 Batch  210/1077 - Train Accuracy: 0.5971, Validation Accuracy: 0.6104, Loss: 0.7975\n",
      "Epoch   0 Batch  220/1077 - Train Accuracy: 0.5822, Validation Accuracy: 0.6140, Loss: 0.7933\n",
      "Epoch   0 Batch  230/1077 - Train Accuracy: 0.5956, Validation Accuracy: 0.6101, Loss: 0.7557\n",
      "Epoch   0 Batch  240/1077 - Train Accuracy: 0.5871, Validation Accuracy: 0.6080, Loss: 0.7325\n",
      "Epoch   0 Batch  250/1077 - Train Accuracy: 0.5859, Validation Accuracy: 0.6254, Loss: 0.6442\n",
      "Epoch   0 Batch  260/1077 - Train Accuracy: 0.6187, Validation Accuracy: 0.6204, Loss: 0.6395\n",
      "Epoch   0 Batch  270/1077 - Train Accuracy: 0.5930, Validation Accuracy: 0.6186, Loss: 0.6828\n",
      "Epoch   0 Batch  280/1077 - Train Accuracy: 0.6312, Validation Accuracy: 0.6293, Loss: 0.6665\n",
      "Epoch   0 Batch  290/1077 - Train Accuracy: 0.5918, Validation Accuracy: 0.6129, Loss: 0.6807\n",
      "Epoch   0 Batch  300/1077 - Train Accuracy: 0.5794, Validation Accuracy: 0.6257, Loss: 0.6512\n",
      "Epoch   0 Batch  310/1077 - Train Accuracy: 0.6145, Validation Accuracy: 0.6374, Loss: 0.6409\n",
      "Epoch   0 Batch  320/1077 - Train Accuracy: 0.6371, Validation Accuracy: 0.6484, Loss: 0.6140\n",
      "Epoch   0 Batch  330/1077 - Train Accuracy: 0.6301, Validation Accuracy: 0.6346, Loss: 0.6013\n",
      "Epoch   0 Batch  340/1077 - Train Accuracy: 0.5876, Validation Accuracy: 0.6374, Loss: 0.6000\n",
      "Epoch   0 Batch  350/1077 - Train Accuracy: 0.6070, Validation Accuracy: 0.6435, Loss: 0.5738\n",
      "Epoch   0 Batch  360/1077 - Train Accuracy: 0.6477, Validation Accuracy: 0.6800, Loss: 0.5536\n",
      "Epoch   0 Batch  370/1077 - Train Accuracy: 0.6373, Validation Accuracy: 0.6364, Loss: 0.5263\n",
      "Epoch   0 Batch  380/1077 - Train Accuracy: 0.6961, Validation Accuracy: 0.6761, Loss: 0.5191\n",
      "Epoch   0 Batch  390/1077 - Train Accuracy: 0.6285, Validation Accuracy: 0.6900, Loss: 0.5261\n",
      "Epoch   0 Batch  400/1077 - Train Accuracy: 0.6727, Validation Accuracy: 0.6768, Loss: 0.5195\n",
      "Epoch   0 Batch  410/1077 - Train Accuracy: 0.6497, Validation Accuracy: 0.7141, Loss: 0.5024\n",
      "Epoch   0 Batch  420/1077 - Train Accuracy: 0.7312, Validation Accuracy: 0.7163, Loss: 0.4493\n",
      "Epoch   0 Batch  430/1077 - Train Accuracy: 0.7438, Validation Accuracy: 0.7301, Loss: 0.4411\n",
      "Epoch   0 Batch  440/1077 - Train Accuracy: 0.7418, Validation Accuracy: 0.7127, Loss: 0.4440\n",
      "Epoch   0 Batch  450/1077 - Train Accuracy: 0.7438, Validation Accuracy: 0.7273, Loss: 0.4031\n",
      "Epoch   0 Batch  460/1077 - Train Accuracy: 0.7375, Validation Accuracy: 0.7390, Loss: 0.4201\n",
      "Epoch   0 Batch  470/1077 - Train Accuracy: 0.7299, Validation Accuracy: 0.7546, Loss: 0.4075\n",
      "Epoch   0 Batch  480/1077 - Train Accuracy: 0.7722, Validation Accuracy: 0.7369, Loss: 0.3748\n",
      "Epoch   0 Batch  490/1077 - Train Accuracy: 0.7449, Validation Accuracy: 0.7763, Loss: 0.3560\n",
      "Epoch   0 Batch  500/1077 - Train Accuracy: 0.8016, Validation Accuracy: 0.7596, Loss: 0.3269\n",
      "Epoch   0 Batch  510/1077 - Train Accuracy: 0.7695, Validation Accuracy: 0.7607, Loss: 0.3139\n",
      "Epoch   0 Batch  520/1077 - Train Accuracy: 0.8337, Validation Accuracy: 0.7791, Loss: 0.2819\n",
      "Epoch   0 Batch  530/1077 - Train Accuracy: 0.7719, Validation Accuracy: 0.7933, Loss: 0.2791\n",
      "Epoch   0 Batch  540/1077 - Train Accuracy: 0.8387, Validation Accuracy: 0.8114, Loss: 0.2483\n",
      "Epoch   0 Batch  550/1077 - Train Accuracy: 0.8336, Validation Accuracy: 0.7937, Loss: 0.2553\n",
      "Epoch   0 Batch  560/1077 - Train Accuracy: 0.8082, Validation Accuracy: 0.8072, Loss: 0.2301\n",
      "Epoch   0 Batch  570/1077 - Train Accuracy: 0.8080, Validation Accuracy: 0.7969, Loss: 0.2535\n",
      "Epoch   0 Batch  580/1077 - Train Accuracy: 0.8385, Validation Accuracy: 0.7937, Loss: 0.2097\n",
      "Epoch   0 Batch  590/1077 - Train Accuracy: 0.8162, Validation Accuracy: 0.7866, Loss: 0.2266\n",
      "Epoch   0 Batch  600/1077 - Train Accuracy: 0.8181, Validation Accuracy: 0.8178, Loss: 0.2053\n",
      "Epoch   0 Batch  610/1077 - Train Accuracy: 0.8631, Validation Accuracy: 0.8413, Loss: 0.2013\n",
      "Epoch   0 Batch  620/1077 - Train Accuracy: 0.8680, Validation Accuracy: 0.8558, Loss: 0.1851\n",
      "Epoch   0 Batch  630/1077 - Train Accuracy: 0.8887, Validation Accuracy: 0.8675, Loss: 0.1588\n",
      "Epoch   0 Batch  640/1077 - Train Accuracy: 0.8471, Validation Accuracy: 0.8540, Loss: 0.1660\n",
      "Epoch   0 Batch  650/1077 - Train Accuracy: 0.8941, Validation Accuracy: 0.8420, Loss: 0.1595\n",
      "Epoch   0 Batch  660/1077 - Train Accuracy: 0.8566, Validation Accuracy: 0.8438, Loss: 0.1575\n",
      "Epoch   0 Batch  670/1077 - Train Accuracy: 0.8963, Validation Accuracy: 0.8651, Loss: 0.1496\n",
      "Epoch   0 Batch  680/1077 - Train Accuracy: 0.8780, Validation Accuracy: 0.8491, Loss: 0.1304\n",
      "Epoch   0 Batch  690/1077 - Train Accuracy: 0.9117, Validation Accuracy: 0.8778, Loss: 0.1336\n",
      "Epoch   0 Batch  700/1077 - Train Accuracy: 0.9012, Validation Accuracy: 0.8413, Loss: 0.1208\n",
      "Epoch   0 Batch  710/1077 - Train Accuracy: 0.9125, Validation Accuracy: 0.8565, Loss: 0.1105\n",
      "Epoch   0 Batch  720/1077 - Train Accuracy: 0.8824, Validation Accuracy: 0.8530, Loss: 0.1350\n",
      "Epoch   0 Batch  730/1077 - Train Accuracy: 0.8770, Validation Accuracy: 0.8576, Loss: 0.1426\n",
      "Epoch   0 Batch  740/1077 - Train Accuracy: 0.9078, Validation Accuracy: 0.8714, Loss: 0.1071\n",
      "Epoch   0 Batch  750/1077 - Train Accuracy: 0.8953, Validation Accuracy: 0.8683, Loss: 0.1116\n",
      "Epoch   0 Batch  760/1077 - Train Accuracy: 0.9113, Validation Accuracy: 0.8796, Loss: 0.1281\n",
      "Epoch   0 Batch  770/1077 - Train Accuracy: 0.8828, Validation Accuracy: 0.8821, Loss: 0.1041\n",
      "Epoch   0 Batch  780/1077 - Train Accuracy: 0.8719, Validation Accuracy: 0.8881, Loss: 0.1288\n",
      "Epoch   0 Batch  790/1077 - Train Accuracy: 0.8438, Validation Accuracy: 0.8864, Loss: 0.1066\n",
      "Epoch   0 Batch  800/1077 - Train Accuracy: 0.9301, Validation Accuracy: 0.8839, Loss: 0.1048\n",
      "Epoch   0 Batch  810/1077 - Train Accuracy: 0.8880, Validation Accuracy: 0.8679, Loss: 0.0881\n",
      "Epoch   0 Batch  820/1077 - Train Accuracy: 0.9141, Validation Accuracy: 0.9020, Loss: 0.0881\n",
      "Epoch   0 Batch  830/1077 - Train Accuracy: 0.8906, Validation Accuracy: 0.8988, Loss: 0.1009\n",
      "Epoch   0 Batch  840/1077 - Train Accuracy: 0.9184, Validation Accuracy: 0.8888, Loss: 0.0820\n",
      "Epoch   0 Batch  850/1077 - Train Accuracy: 0.8925, Validation Accuracy: 0.8768, Loss: 0.1128\n",
      "Epoch   0 Batch  860/1077 - Train Accuracy: 0.9159, Validation Accuracy: 0.8920, Loss: 0.0873\n",
      "Epoch   0 Batch  870/1077 - Train Accuracy: 0.9058, Validation Accuracy: 0.8896, Loss: 0.0824\n",
      "Epoch   0 Batch  880/1077 - Train Accuracy: 0.9223, Validation Accuracy: 0.8789, Loss: 0.0872\n",
      "Epoch   0 Batch  890/1077 - Train Accuracy: 0.9327, Validation Accuracy: 0.9155, Loss: 0.0845\n",
      "Epoch   0 Batch  900/1077 - Train Accuracy: 0.9441, Validation Accuracy: 0.8924, Loss: 0.0912\n",
      "Epoch   0 Batch  910/1077 - Train Accuracy: 0.9144, Validation Accuracy: 0.9087, Loss: 0.0820\n",
      "Epoch   0 Batch  920/1077 - Train Accuracy: 0.9309, Validation Accuracy: 0.9016, Loss: 0.0810\n",
      "Epoch   0 Batch  930/1077 - Train Accuracy: 0.9168, Validation Accuracy: 0.8981, Loss: 0.0659\n",
      "Epoch   0 Batch  940/1077 - Train Accuracy: 0.9328, Validation Accuracy: 0.8878, Loss: 0.0576\n",
      "Epoch   0 Batch  950/1077 - Train Accuracy: 0.9278, Validation Accuracy: 0.8999, Loss: 0.0656\n",
      "Epoch   0 Batch  960/1077 - Train Accuracy: 0.9204, Validation Accuracy: 0.8984, Loss: 0.0652\n",
      "Epoch   0 Batch  970/1077 - Train Accuracy: 0.9641, Validation Accuracy: 0.9098, Loss: 0.0738\n",
      "Epoch   0 Batch  980/1077 - Train Accuracy: 0.9070, Validation Accuracy: 0.9173, Loss: 0.0797\n",
      "Epoch   0 Batch  990/1077 - Train Accuracy: 0.9408, Validation Accuracy: 0.9126, Loss: 0.0717\n",
      "Epoch   0 Batch 1000/1077 - Train Accuracy: 0.9289, Validation Accuracy: 0.8935, Loss: 0.0680\n",
      "Epoch   0 Batch 1010/1077 - Train Accuracy: 0.9414, Validation Accuracy: 0.9240, Loss: 0.0593\n",
      "Epoch   0 Batch 1020/1077 - Train Accuracy: 0.9289, Validation Accuracy: 0.9148, Loss: 0.0556\n",
      "Epoch   0 Batch 1030/1077 - Train Accuracy: 0.9477, Validation Accuracy: 0.9080, Loss: 0.0597\n",
      "Epoch   0 Batch 1040/1077 - Train Accuracy: 0.9190, Validation Accuracy: 0.9165, Loss: 0.0718\n",
      "Epoch   0 Batch 1050/1077 - Train Accuracy: 0.9348, Validation Accuracy: 0.9062, Loss: 0.0528\n",
      "Epoch   0 Batch 1060/1077 - Train Accuracy: 0.9281, Validation Accuracy: 0.8967, Loss: 0.0542\n",
      "Epoch   0 Batch 1070/1077 - Train Accuracy: 0.9484, Validation Accuracy: 0.9158, Loss: 0.0596\n",
      "Epoch   1 Batch   10/1077 - Train Accuracy: 0.9104, Validation Accuracy: 0.9009, Loss: 0.0659\n",
      "Epoch   1 Batch   20/1077 - Train Accuracy: 0.9301, Validation Accuracy: 0.9158, Loss: 0.0488\n",
      "Epoch   1 Batch   30/1077 - Train Accuracy: 0.9410, Validation Accuracy: 0.9247, Loss: 0.0502\n",
      "Epoch   1 Batch   40/1077 - Train Accuracy: 0.9352, Validation Accuracy: 0.9251, Loss: 0.0495\n",
      "Epoch   1 Batch   50/1077 - Train Accuracy: 0.9332, Validation Accuracy: 0.9062, Loss: 0.0501\n",
      "Epoch   1 Batch   60/1077 - Train Accuracy: 0.9312, Validation Accuracy: 0.8839, Loss: 0.0433\n",
      "Epoch   1 Batch   70/1077 - Train Accuracy: 0.9161, Validation Accuracy: 0.9034, Loss: 0.0535\n",
      "Epoch   1 Batch   80/1077 - Train Accuracy: 0.9484, Validation Accuracy: 0.9162, Loss: 0.0442\n",
      "Epoch   1 Batch   90/1077 - Train Accuracy: 0.9527, Validation Accuracy: 0.9286, Loss: 0.0507\n",
      "Epoch   1 Batch  100/1077 - Train Accuracy: 0.9539, Validation Accuracy: 0.9354, Loss: 0.0464\n",
      "Epoch   1 Batch  110/1077 - Train Accuracy: 0.9590, Validation Accuracy: 0.9180, Loss: 0.0393\n",
      "Epoch   1 Batch  120/1077 - Train Accuracy: 0.9570, Validation Accuracy: 0.9087, Loss: 0.0552\n",
      "Epoch   1 Batch  130/1077 - Train Accuracy: 0.9658, Validation Accuracy: 0.8888, Loss: 0.0363\n",
      "Epoch   1 Batch  140/1077 - Train Accuracy: 0.9486, Validation Accuracy: 0.9233, Loss: 0.0425\n",
      "Epoch   1 Batch  150/1077 - Train Accuracy: 0.9375, Validation Accuracy: 0.9407, Loss: 0.0542\n",
      "Epoch   1 Batch  160/1077 - Train Accuracy: 0.9355, Validation Accuracy: 0.9119, Loss: 0.0494\n",
      "Epoch   1 Batch  170/1077 - Train Accuracy: 0.9391, Validation Accuracy: 0.9244, Loss: 0.0571\n",
      "Epoch   1 Batch  180/1077 - Train Accuracy: 0.9504, Validation Accuracy: 0.9325, Loss: 0.0429\n",
      "Epoch   1 Batch  190/1077 - Train Accuracy: 0.9652, Validation Accuracy: 0.9070, Loss: 0.0403\n",
      "Epoch   1 Batch  200/1077 - Train Accuracy: 0.9539, Validation Accuracy: 0.9062, Loss: 0.0537\n",
      "Epoch   1 Batch  210/1077 - Train Accuracy: 0.9587, Validation Accuracy: 0.8892, Loss: 0.0520\n",
      "Epoch   1 Batch  220/1077 - Train Accuracy: 0.9400, Validation Accuracy: 0.9165, Loss: 0.0508\n",
      "Epoch   1 Batch  230/1077 - Train Accuracy: 0.9375, Validation Accuracy: 0.9219, Loss: 0.0469\n",
      "Epoch   1 Batch  240/1077 - Train Accuracy: 0.9684, Validation Accuracy: 0.9190, Loss: 0.0409\n",
      "Epoch   1 Batch  250/1077 - Train Accuracy: 0.9425, Validation Accuracy: 0.9286, Loss: 0.0483\n",
      "Epoch   1 Batch  260/1077 - Train Accuracy: 0.9565, Validation Accuracy: 0.9194, Loss: 0.0348\n",
      "Epoch   1 Batch  270/1077 - Train Accuracy: 0.9465, Validation Accuracy: 0.9279, Loss: 0.0519\n",
      "Epoch   1 Batch  280/1077 - Train Accuracy: 0.9293, Validation Accuracy: 0.9386, Loss: 0.0538\n",
      "Epoch   1 Batch  290/1077 - Train Accuracy: 0.9465, Validation Accuracy: 0.9354, Loss: 0.0594\n",
      "Epoch   1 Batch  300/1077 - Train Accuracy: 0.9642, Validation Accuracy: 0.9240, Loss: 0.0354\n",
      "Epoch   1 Batch  310/1077 - Train Accuracy: 0.9582, Validation Accuracy: 0.9148, Loss: 0.0442\n",
      "Epoch   1 Batch  320/1077 - Train Accuracy: 0.9586, Validation Accuracy: 0.9368, Loss: 0.0472\n",
      "Epoch   1 Batch  330/1077 - Train Accuracy: 0.9520, Validation Accuracy: 0.9137, Loss: 0.0482\n",
      "Epoch   1 Batch  340/1077 - Train Accuracy: 0.9782, Validation Accuracy: 0.9290, Loss: 0.0413\n",
      "Epoch   1 Batch  350/1077 - Train Accuracy: 0.9449, Validation Accuracy: 0.9119, Loss: 0.0451\n",
      "Epoch   1 Batch  360/1077 - Train Accuracy: 0.9492, Validation Accuracy: 0.9268, Loss: 0.0344\n",
      "Epoch   1 Batch  370/1077 - Train Accuracy: 0.9483, Validation Accuracy: 0.9414, Loss: 0.0406\n",
      "Epoch   1 Batch  380/1077 - Train Accuracy: 0.9598, Validation Accuracy: 0.9421, Loss: 0.0328\n",
      "Epoch   1 Batch  390/1077 - Train Accuracy: 0.9105, Validation Accuracy: 0.9293, Loss: 0.0508\n",
      "Epoch   1 Batch  400/1077 - Train Accuracy: 0.9437, Validation Accuracy: 0.9347, Loss: 0.0516\n",
      "Epoch   1 Batch  410/1077 - Train Accuracy: 0.9301, Validation Accuracy: 0.9425, Loss: 0.0504\n",
      "Epoch   1 Batch  420/1077 - Train Accuracy: 0.9766, Validation Accuracy: 0.9396, Loss: 0.0284\n",
      "Epoch   1 Batch  430/1077 - Train Accuracy: 0.9617, Validation Accuracy: 0.9442, Loss: 0.0358\n",
      "Epoch   1 Batch  440/1077 - Train Accuracy: 0.9402, Validation Accuracy: 0.9315, Loss: 0.0516\n",
      "Epoch   1 Batch  450/1077 - Train Accuracy: 0.9500, Validation Accuracy: 0.9308, Loss: 0.0456\n",
      "Epoch   1 Batch  460/1077 - Train Accuracy: 0.9480, Validation Accuracy: 0.9144, Loss: 0.0435\n",
      "Epoch   1 Batch  470/1077 - Train Accuracy: 0.9461, Validation Accuracy: 0.9229, Loss: 0.0465\n",
      "Epoch   1 Batch  480/1077 - Train Accuracy: 0.9638, Validation Accuracy: 0.9418, Loss: 0.0372\n",
      "Epoch   1 Batch  490/1077 - Train Accuracy: 0.9453, Validation Accuracy: 0.9482, Loss: 0.0372\n",
      "Epoch   1 Batch  500/1077 - Train Accuracy: 0.9613, Validation Accuracy: 0.9379, Loss: 0.0321\n",
      "Epoch   1 Batch  510/1077 - Train Accuracy: 0.9563, Validation Accuracy: 0.9343, Loss: 0.0369\n",
      "Epoch   1 Batch  520/1077 - Train Accuracy: 0.9829, Validation Accuracy: 0.9442, Loss: 0.0294\n",
      "Epoch   1 Batch  530/1077 - Train Accuracy: 0.9449, Validation Accuracy: 0.9386, Loss: 0.0392\n",
      "Epoch   1 Batch  540/1077 - Train Accuracy: 0.9785, Validation Accuracy: 0.9332, Loss: 0.0285\n",
      "Epoch   1 Batch  550/1077 - Train Accuracy: 0.9383, Validation Accuracy: 0.9496, Loss: 0.0359\n",
      "Epoch   1 Batch  560/1077 - Train Accuracy: 0.9480, Validation Accuracy: 0.9553, Loss: 0.0405\n",
      "Epoch   1 Batch  570/1077 - Train Accuracy: 0.9174, Validation Accuracy: 0.9581, Loss: 0.0485\n",
      "Epoch   1 Batch  580/1077 - Train Accuracy: 0.9680, Validation Accuracy: 0.9563, Loss: 0.0326\n",
      "Epoch   1 Batch  590/1077 - Train Accuracy: 0.9449, Validation Accuracy: 0.9364, Loss: 0.0355\n",
      "Epoch   1 Batch  600/1077 - Train Accuracy: 0.9654, Validation Accuracy: 0.9585, Loss: 0.0422\n",
      "Epoch   1 Batch  610/1077 - Train Accuracy: 0.9474, Validation Accuracy: 0.9357, Loss: 0.0425\n",
      "Epoch   1 Batch  620/1077 - Train Accuracy: 0.9676, Validation Accuracy: 0.9602, Loss: 0.0356\n",
      "Epoch   1 Batch  630/1077 - Train Accuracy: 0.9668, Validation Accuracy: 0.9506, Loss: 0.0372\n",
      "Epoch   1 Batch  640/1077 - Train Accuracy: 0.9572, Validation Accuracy: 0.9450, Loss: 0.0392\n",
      "Epoch   1 Batch  650/1077 - Train Accuracy: 0.9594, Validation Accuracy: 0.9442, Loss: 0.0343\n",
      "Epoch   1 Batch  660/1077 - Train Accuracy: 0.9730, Validation Accuracy: 0.9499, Loss: 0.0325\n",
      "Epoch   1 Batch  670/1077 - Train Accuracy: 0.9503, Validation Accuracy: 0.9499, Loss: 0.0353\n",
      "Epoch   1 Batch  680/1077 - Train Accuracy: 0.9289, Validation Accuracy: 0.9513, Loss: 0.0381\n",
      "Epoch   1 Batch  690/1077 - Train Accuracy: 0.9531, Validation Accuracy: 0.9474, Loss: 0.0369\n",
      "Epoch   1 Batch  700/1077 - Train Accuracy: 0.9527, Validation Accuracy: 0.9592, Loss: 0.0269\n",
      "Epoch   1 Batch  710/1077 - Train Accuracy: 0.9797, Validation Accuracy: 0.9521, Loss: 0.0270\n",
      "Epoch   1 Batch  720/1077 - Train Accuracy: 0.9564, Validation Accuracy: 0.9450, Loss: 0.0387\n",
      "Epoch   1 Batch  730/1077 - Train Accuracy: 0.9715, Validation Accuracy: 0.9450, Loss: 0.0451\n",
      "Epoch   1 Batch  740/1077 - Train Accuracy: 0.9711, Validation Accuracy: 0.9425, Loss: 0.0332\n",
      "Epoch   1 Batch  750/1077 - Train Accuracy: 0.9430, Validation Accuracy: 0.9308, Loss: 0.0293\n",
      "Epoch   1 Batch  760/1077 - Train Accuracy: 0.9527, Validation Accuracy: 0.9368, Loss: 0.0411\n",
      "Epoch   1 Batch  770/1077 - Train Accuracy: 0.9554, Validation Accuracy: 0.9645, Loss: 0.0339\n",
      "Epoch   1 Batch  780/1077 - Train Accuracy: 0.9441, Validation Accuracy: 0.9322, Loss: 0.0422\n",
      "Epoch   1 Batch  790/1077 - Train Accuracy: 0.9199, Validation Accuracy: 0.9503, Loss: 0.0423\n",
      "Epoch   1 Batch  800/1077 - Train Accuracy: 0.9609, Validation Accuracy: 0.9421, Loss: 0.0308\n",
      "Epoch   1 Batch  810/1077 - Train Accuracy: 0.9747, Validation Accuracy: 0.9524, Loss: 0.0207\n",
      "Epoch   1 Batch  820/1077 - Train Accuracy: 0.9586, Validation Accuracy: 0.9432, Loss: 0.0291\n",
      "Epoch   1 Batch  830/1077 - Train Accuracy: 0.9523, Validation Accuracy: 0.9361, Loss: 0.0435\n",
      "Epoch   1 Batch  840/1077 - Train Accuracy: 0.9785, Validation Accuracy: 0.9588, Loss: 0.0297\n",
      "Epoch   1 Batch  850/1077 - Train Accuracy: 0.9457, Validation Accuracy: 0.9379, Loss: 0.0451\n",
      "Epoch   1 Batch  860/1077 - Train Accuracy: 0.9621, Validation Accuracy: 0.9641, Loss: 0.0346\n",
      "Epoch   1 Batch  870/1077 - Train Accuracy: 0.9519, Validation Accuracy: 0.9364, Loss: 0.0257\n",
      "Epoch   1 Batch  880/1077 - Train Accuracy: 0.9703, Validation Accuracy: 0.9411, Loss: 0.0420\n",
      "Epoch   1 Batch  890/1077 - Train Accuracy: 0.9628, Validation Accuracy: 0.9311, Loss: 0.0298\n",
      "Epoch   1 Batch  900/1077 - Train Accuracy: 0.9633, Validation Accuracy: 0.9595, Loss: 0.0342\n",
      "Epoch   1 Batch  910/1077 - Train Accuracy: 0.9550, Validation Accuracy: 0.9588, Loss: 0.0335\n",
      "Epoch   1 Batch  920/1077 - Train Accuracy: 0.9703, Validation Accuracy: 0.9627, Loss: 0.0266\n",
      "Epoch   1 Batch  930/1077 - Train Accuracy: 0.9609, Validation Accuracy: 0.9379, Loss: 0.0274\n",
      "Epoch   1 Batch  940/1077 - Train Accuracy: 0.9633, Validation Accuracy: 0.9616, Loss: 0.0247\n",
      "Epoch   1 Batch  950/1077 - Train Accuracy: 0.9717, Validation Accuracy: 0.9538, Loss: 0.0262\n",
      "Epoch   1 Batch  960/1077 - Train Accuracy: 0.9565, Validation Accuracy: 0.9545, Loss: 0.0271\n",
      "Epoch   1 Batch  970/1077 - Train Accuracy: 0.9652, Validation Accuracy: 0.9471, Loss: 0.0345\n",
      "Epoch   1 Batch  980/1077 - Train Accuracy: 0.9402, Validation Accuracy: 0.9457, Loss: 0.0335\n",
      "Epoch   1 Batch  990/1077 - Train Accuracy: 0.9803, Validation Accuracy: 0.9602, Loss: 0.0258\n",
      "Epoch   1 Batch 1000/1077 - Train Accuracy: 0.9591, Validation Accuracy: 0.9407, Loss: 0.0295\n",
      "Epoch   1 Batch 1010/1077 - Train Accuracy: 0.9676, Validation Accuracy: 0.9457, Loss: 0.0214\n",
      "Epoch   1 Batch 1020/1077 - Train Accuracy: 0.9781, Validation Accuracy: 0.9670, Loss: 0.0285\n",
      "Epoch   1 Batch 1030/1077 - Train Accuracy: 0.9809, Validation Accuracy: 0.9478, Loss: 0.0241\n",
      "Epoch   1 Batch 1040/1077 - Train Accuracy: 0.9511, Validation Accuracy: 0.9336, Loss: 0.0313\n",
      "Epoch   1 Batch 1050/1077 - Train Accuracy: 0.9750, Validation Accuracy: 0.9375, Loss: 0.0266\n",
      "Epoch   1 Batch 1060/1077 - Train Accuracy: 0.9773, Validation Accuracy: 0.9695, Loss: 0.0249\n",
      "Epoch   1 Batch 1070/1077 - Train Accuracy: 0.9563, Validation Accuracy: 0.9524, Loss: 0.0275\n",
      "Epoch   2 Batch   10/1077 - Train Accuracy: 0.9618, Validation Accuracy: 0.9652, Loss: 0.0279\n",
      "Epoch   2 Batch   20/1077 - Train Accuracy: 0.9641, Validation Accuracy: 0.9808, Loss: 0.0201\n",
      "Epoch   2 Batch   30/1077 - Train Accuracy: 0.9836, Validation Accuracy: 0.9638, Loss: 0.0219\n",
      "Epoch   2 Batch   40/1077 - Train Accuracy: 0.9902, Validation Accuracy: 0.9634, Loss: 0.0199\n",
      "Epoch   2 Batch   50/1077 - Train Accuracy: 0.9781, Validation Accuracy: 0.9616, Loss: 0.0255\n",
      "Epoch   2 Batch   60/1077 - Train Accuracy: 0.9766, Validation Accuracy: 0.9588, Loss: 0.0186\n",
      "Epoch   2 Batch   70/1077 - Train Accuracy: 0.9601, Validation Accuracy: 0.9656, Loss: 0.0287\n",
      "Epoch   2 Batch   80/1077 - Train Accuracy: 0.9660, Validation Accuracy: 0.9553, Loss: 0.0220\n",
      "Epoch   2 Batch   90/1077 - Train Accuracy: 0.9848, Validation Accuracy: 0.9599, Loss: 0.0246\n",
      "Epoch   2 Batch  100/1077 - Train Accuracy: 0.9770, Validation Accuracy: 0.9616, Loss: 0.0226\n",
      "Epoch   2 Batch  110/1077 - Train Accuracy: 0.9746, Validation Accuracy: 0.9545, Loss: 0.0187\n",
      "Epoch   2 Batch  120/1077 - Train Accuracy: 0.9703, Validation Accuracy: 0.9645, Loss: 0.0264\n",
      "Epoch   2 Batch  130/1077 - Train Accuracy: 0.9699, Validation Accuracy: 0.9492, Loss: 0.0231\n",
      "Epoch   2 Batch  140/1077 - Train Accuracy: 0.9745, Validation Accuracy: 0.9723, Loss: 0.0224\n",
      "Epoch   2 Batch  150/1077 - Train Accuracy: 0.9777, Validation Accuracy: 0.9627, Loss: 0.0219\n",
      "Epoch   2 Batch  160/1077 - Train Accuracy: 0.9805, Validation Accuracy: 0.9574, Loss: 0.0237\n",
      "Epoch   2 Batch  170/1077 - Train Accuracy: 0.9637, Validation Accuracy: 0.9560, Loss: 0.0263\n",
      "Epoch   2 Batch  180/1077 - Train Accuracy: 0.9668, Validation Accuracy: 0.9620, Loss: 0.0174\n",
      "Epoch   2 Batch  190/1077 - Train Accuracy: 0.9684, Validation Accuracy: 0.9620, Loss: 0.0166\n",
      "Epoch   2 Batch  200/1077 - Train Accuracy: 0.9664, Validation Accuracy: 0.9624, Loss: 0.0278\n",
      "Epoch   2 Batch  210/1077 - Train Accuracy: 0.9795, Validation Accuracy: 0.9755, Loss: 0.0261\n",
      "Epoch   2 Batch  220/1077 - Train Accuracy: 0.9593, Validation Accuracy: 0.9790, Loss: 0.0217\n",
      "Epoch   2 Batch  230/1077 - Train Accuracy: 0.9743, Validation Accuracy: 0.9585, Loss: 0.0235\n",
      "Epoch   2 Batch  240/1077 - Train Accuracy: 0.9887, Validation Accuracy: 0.9570, Loss: 0.0209\n",
      "Epoch   2 Batch  250/1077 - Train Accuracy: 0.9712, Validation Accuracy: 0.9641, Loss: 0.0243\n",
      "Epoch   2 Batch  260/1077 - Train Accuracy: 0.9702, Validation Accuracy: 0.9556, Loss: 0.0192\n",
      "Epoch   2 Batch  270/1077 - Train Accuracy: 0.9730, Validation Accuracy: 0.9538, Loss: 0.0300\n",
      "Epoch   2 Batch  280/1077 - Train Accuracy: 0.9430, Validation Accuracy: 0.9535, Loss: 0.0271\n",
      "Epoch   2 Batch  290/1077 - Train Accuracy: 0.9766, Validation Accuracy: 0.9663, Loss: 0.0332\n",
      "Epoch   2 Batch  300/1077 - Train Accuracy: 0.9683, Validation Accuracy: 0.9688, Loss: 0.0190\n",
      "Epoch   2 Batch  310/1077 - Train Accuracy: 0.9777, Validation Accuracy: 0.9460, Loss: 0.0249\n",
      "Epoch   2 Batch  320/1077 - Train Accuracy: 0.9602, Validation Accuracy: 0.9627, Loss: 0.0276\n",
      "Epoch   2 Batch  330/1077 - Train Accuracy: 0.9543, Validation Accuracy: 0.9496, Loss: 0.0269\n",
      "Epoch   2 Batch  340/1077 - Train Accuracy: 0.9823, Validation Accuracy: 0.9545, Loss: 0.0238\n",
      "Epoch   2 Batch  350/1077 - Train Accuracy: 0.9754, Validation Accuracy: 0.9446, Loss: 0.0239\n",
      "Epoch   2 Batch  360/1077 - Train Accuracy: 0.9785, Validation Accuracy: 0.9684, Loss: 0.0179\n",
      "Epoch   2 Batch  370/1077 - Train Accuracy: 0.9855, Validation Accuracy: 0.9645, Loss: 0.0219\n",
      "Epoch   2 Batch  380/1077 - Train Accuracy: 0.9746, Validation Accuracy: 0.9638, Loss: 0.0202\n",
      "Epoch   2 Batch  390/1077 - Train Accuracy: 0.9504, Validation Accuracy: 0.9663, Loss: 0.0330\n",
      "Epoch   2 Batch  400/1077 - Train Accuracy: 0.9688, Validation Accuracy: 0.9556, Loss: 0.0367\n",
      "Epoch   2 Batch  410/1077 - Train Accuracy: 0.9634, Validation Accuracy: 0.9574, Loss: 0.0350\n",
      "Epoch   2 Batch  420/1077 - Train Accuracy: 0.9969, Validation Accuracy: 0.9631, Loss: 0.0134\n",
      "Epoch   2 Batch  430/1077 - Train Accuracy: 0.9836, Validation Accuracy: 0.9553, Loss: 0.0213\n",
      "Epoch   2 Batch  440/1077 - Train Accuracy: 0.9590, Validation Accuracy: 0.9524, Loss: 0.0212\n",
      "Epoch   2 Batch  450/1077 - Train Accuracy: 0.9727, Validation Accuracy: 0.9574, Loss: 0.0231\n",
      "Epoch   2 Batch  460/1077 - Train Accuracy: 0.9609, Validation Accuracy: 0.9510, Loss: 0.0247\n",
      "Epoch   2 Batch  470/1077 - Train Accuracy: 0.9638, Validation Accuracy: 0.9521, Loss: 0.0215\n",
      "Epoch   2 Batch  480/1077 - Train Accuracy: 0.9720, Validation Accuracy: 0.9638, Loss: 0.0179\n",
      "Epoch   2 Batch  490/1077 - Train Accuracy: 0.9488, Validation Accuracy: 0.9673, Loss: 0.0247\n",
      "Epoch   2 Batch  500/1077 - Train Accuracy: 0.9785, Validation Accuracy: 0.9737, Loss: 0.0167\n",
      "Epoch   2 Batch  510/1077 - Train Accuracy: 0.9680, Validation Accuracy: 0.9748, Loss: 0.0264\n",
      "Epoch   2 Batch  520/1077 - Train Accuracy: 0.9862, Validation Accuracy: 0.9656, Loss: 0.0185\n",
      "Epoch   2 Batch  530/1077 - Train Accuracy: 0.9477, Validation Accuracy: 0.9659, Loss: 0.0276\n",
      "Epoch   2 Batch  540/1077 - Train Accuracy: 0.9785, Validation Accuracy: 0.9606, Loss: 0.0188\n",
      "Epoch   2 Batch  550/1077 - Train Accuracy: 0.9777, Validation Accuracy: 0.9581, Loss: 0.0225\n",
      "Epoch   2 Batch  560/1077 - Train Accuracy: 0.9707, Validation Accuracy: 0.9588, Loss: 0.0207\n",
      "Epoch   2 Batch  570/1077 - Train Accuracy: 0.9708, Validation Accuracy: 0.9737, Loss: 0.0293\n",
      "Epoch   2 Batch  580/1077 - Train Accuracy: 0.9758, Validation Accuracy: 0.9727, Loss: 0.0181\n",
      "Epoch   2 Batch  590/1077 - Train Accuracy: 0.9650, Validation Accuracy: 0.9666, Loss: 0.0215\n",
      "Epoch   2 Batch  600/1077 - Train Accuracy: 0.9740, Validation Accuracy: 0.9719, Loss: 0.0255\n",
      "Epoch   2 Batch  610/1077 - Train Accuracy: 0.9782, Validation Accuracy: 0.9858, Loss: 0.0287\n",
      "Epoch   2 Batch  620/1077 - Train Accuracy: 0.9699, Validation Accuracy: 0.9695, Loss: 0.0238\n",
      "Epoch   2 Batch  630/1077 - Train Accuracy: 0.9902, Validation Accuracy: 0.9641, Loss: 0.0192\n",
      "Epoch   2 Batch  640/1077 - Train Accuracy: 0.9777, Validation Accuracy: 0.9592, Loss: 0.0219\n",
      "Epoch   2 Batch  650/1077 - Train Accuracy: 0.9688, Validation Accuracy: 0.9719, Loss: 0.0231\n",
      "Epoch   2 Batch  660/1077 - Train Accuracy: 0.9785, Validation Accuracy: 0.9755, Loss: 0.0210\n",
      "Epoch   2 Batch  670/1077 - Train Accuracy: 0.9769, Validation Accuracy: 0.9606, Loss: 0.0198\n",
      "Epoch   2 Batch  680/1077 - Train Accuracy: 0.9554, Validation Accuracy: 0.9652, Loss: 0.0197\n",
      "Epoch   2 Batch  690/1077 - Train Accuracy: 0.9723, Validation Accuracy: 0.9574, Loss: 0.0231\n",
      "Epoch   2 Batch  700/1077 - Train Accuracy: 0.9859, Validation Accuracy: 0.9766, Loss: 0.0126\n",
      "Epoch   2 Batch  710/1077 - Train Accuracy: 0.9766, Validation Accuracy: 0.9588, Loss: 0.0208\n",
      "Epoch   2 Batch  720/1077 - Train Accuracy: 0.9762, Validation Accuracy: 0.9698, Loss: 0.0211\n",
      "Epoch   2 Batch  730/1077 - Train Accuracy: 0.9801, Validation Accuracy: 0.9620, Loss: 0.0297\n",
      "Epoch   2 Batch  740/1077 - Train Accuracy: 0.9812, Validation Accuracy: 0.9698, Loss: 0.0182\n",
      "Epoch   2 Batch  750/1077 - Train Accuracy: 0.9488, Validation Accuracy: 0.9648, Loss: 0.0197\n",
      "Epoch   2 Batch  760/1077 - Train Accuracy: 0.9695, Validation Accuracy: 0.9712, Loss: 0.0255\n",
      "Epoch   2 Batch  770/1077 - Train Accuracy: 0.9695, Validation Accuracy: 0.9688, Loss: 0.0208\n",
      "Epoch   2 Batch  780/1077 - Train Accuracy: 0.9695, Validation Accuracy: 0.9581, Loss: 0.0224\n",
      "Epoch   2 Batch  790/1077 - Train Accuracy: 0.9730, Validation Accuracy: 0.9624, Loss: 0.0266\n",
      "Epoch   2 Batch  800/1077 - Train Accuracy: 0.9852, Validation Accuracy: 0.9524, Loss: 0.0204\n",
      "Epoch   2 Batch  810/1077 - Train Accuracy: 0.9807, Validation Accuracy: 0.9698, Loss: 0.0151\n",
      "Epoch   2 Batch  820/1077 - Train Accuracy: 0.9656, Validation Accuracy: 0.9538, Loss: 0.0228\n",
      "Epoch   2 Batch  830/1077 - Train Accuracy: 0.9688, Validation Accuracy: 0.9723, Loss: 0.0261\n",
      "Epoch   2 Batch  840/1077 - Train Accuracy: 0.9793, Validation Accuracy: 0.9585, Loss: 0.0203\n",
      "Epoch   2 Batch  850/1077 - Train Accuracy: 0.9565, Validation Accuracy: 0.9719, Loss: 0.0389\n",
      "Epoch   2 Batch  860/1077 - Train Accuracy: 0.9840, Validation Accuracy: 0.9727, Loss: 0.0228\n",
      "Epoch   2 Batch  870/1077 - Train Accuracy: 0.9679, Validation Accuracy: 0.9790, Loss: 0.0188\n",
      "Epoch   2 Batch  880/1077 - Train Accuracy: 0.9824, Validation Accuracy: 0.9670, Loss: 0.0252\n",
      "Epoch   2 Batch  890/1077 - Train Accuracy: 0.9747, Validation Accuracy: 0.9624, Loss: 0.0201\n",
      "Epoch   2 Batch  900/1077 - Train Accuracy: 0.9801, Validation Accuracy: 0.9741, Loss: 0.0168\n",
      "Epoch   2 Batch  910/1077 - Train Accuracy: 0.9758, Validation Accuracy: 0.9709, Loss: 0.0253\n",
      "Epoch   2 Batch  920/1077 - Train Accuracy: 0.9828, Validation Accuracy: 0.9730, Loss: 0.0216\n",
      "Epoch   2 Batch  930/1077 - Train Accuracy: 0.9613, Validation Accuracy: 0.9659, Loss: 0.0201\n",
      "Epoch   2 Batch  940/1077 - Train Accuracy: 0.9633, Validation Accuracy: 0.9783, Loss: 0.0222\n",
      "Epoch   2 Batch  950/1077 - Train Accuracy: 0.9751, Validation Accuracy: 0.9847, Loss: 0.0182\n",
      "Epoch   2 Batch  960/1077 - Train Accuracy: 0.9717, Validation Accuracy: 0.9577, Loss: 0.0252\n",
      "Epoch   2 Batch  970/1077 - Train Accuracy: 0.9738, Validation Accuracy: 0.9712, Loss: 0.0263\n",
      "Epoch   2 Batch  980/1077 - Train Accuracy: 0.9703, Validation Accuracy: 0.9648, Loss: 0.0184\n",
      "Epoch   2 Batch  990/1077 - Train Accuracy: 0.9733, Validation Accuracy: 0.9513, Loss: 0.0225\n",
      "Epoch   2 Batch 1000/1077 - Train Accuracy: 0.9695, Validation Accuracy: 0.9585, Loss: 0.0220\n",
      "Epoch   2 Batch 1010/1077 - Train Accuracy: 0.9766, Validation Accuracy: 0.9595, Loss: 0.0161\n",
      "Epoch   2 Batch 1020/1077 - Train Accuracy: 0.9875, Validation Accuracy: 0.9613, Loss: 0.0175\n",
      "Epoch   2 Batch 1030/1077 - Train Accuracy: 0.9980, Validation Accuracy: 0.9535, Loss: 0.0166\n",
      "Epoch   2 Batch 1040/1077 - Train Accuracy: 0.9831, Validation Accuracy: 0.9457, Loss: 0.0229\n",
      "Epoch   2 Batch 1050/1077 - Train Accuracy: 0.9848, Validation Accuracy: 0.9684, Loss: 0.0186\n",
      "Epoch   2 Batch 1060/1077 - Train Accuracy: 0.9766, Validation Accuracy: 0.9762, Loss: 0.0172\n",
      "Epoch   2 Batch 1070/1077 - Train Accuracy: 0.9535, Validation Accuracy: 0.9801, Loss: 0.0183\n",
      "Model Trained and Saved\n"
     ]
    }
   ],
   "source": [
    "\"\"\"\n",
    "DON'T MODIFY ANYTHING IN THIS CELL\n",
    "\"\"\"\n",
    "def get_accuracy(target, logits):\n",
    "    \"\"\"\n",
    "    Calculate accuracy\n",
    "    \"\"\"\n",
    "    max_seq = max(target.shape[1], logits.shape[1])\n",
    "    if max_seq - target.shape[1]:\n",
    "        target = np.pad(\n",
    "            target,\n",
    "            [(0,0),(0,max_seq - target.shape[1])],\n",
    "            'constant')\n",
    "    if max_seq - logits.shape[1]:\n",
    "        logits = np.pad(\n",
    "            logits,\n",
    "            [(0,0),(0,max_seq - logits.shape[1])],\n",
    "            'constant')\n",
    "\n",
    "    return np.mean(np.equal(target, logits))\n",
    "\n",
    "# Split data to training and validation sets\n",
    "train_source = source_int_text[batch_size:]\n",
    "train_target = target_int_text[batch_size:]\n",
    "valid_source = source_int_text[:batch_size]\n",
    "valid_target = target_int_text[:batch_size]\n",
    "(valid_sources_batch, valid_targets_batch, valid_sources_lengths, valid_targets_lengths ) = next(get_batches(valid_source,\n",
    "                                                                                                             valid_target,\n",
    "                                                                                                             batch_size,\n",
    "                                                                                                             source_vocab_to_int['<PAD>'],\n",
    "                                                                                                             target_vocab_to_int['<PAD>']))                                                                                                  \n",
    "with tf.Session(graph=train_graph) as sess:\n",
    "    sess.run(tf.global_variables_initializer())\n",
    "\n",
    "    for epoch_i in range(epochs):\n",
    "        for batch_i, (source_batch, target_batch, sources_lengths, targets_lengths) in enumerate(\n",
    "                get_batches(train_source, train_target, batch_size,\n",
    "                            source_vocab_to_int['<PAD>'],\n",
    "                            target_vocab_to_int['<PAD>'])):\n",
    "\n",
    "            _, loss = sess.run(\n",
    "                [train_op, cost],\n",
    "                {input_data: source_batch,\n",
    "                 targets: target_batch,\n",
    "                 lr: learning_rate,\n",
    "                 target_sequence_length: targets_lengths,\n",
    "                 source_sequence_length: sources_lengths,\n",
    "                 keep_prob: keep_probability})\n",
    "\n",
    "\n",
    "            if batch_i % display_step == 0 and batch_i > 0:\n",
    "\n",
    "\n",
    "                batch_train_logits = sess.run(\n",
    "                    inference_logits,\n",
    "                    {input_data: source_batch,\n",
    "                     source_sequence_length: sources_lengths,\n",
    "                     target_sequence_length: targets_lengths,\n",
    "                     keep_prob: 1.0})\n",
    "\n",
    "\n",
    "                batch_valid_logits = sess.run(\n",
    "                    inference_logits,\n",
    "                    {input_data: valid_sources_batch,\n",
    "                     source_sequence_length: valid_sources_lengths,\n",
    "                     target_sequence_length: valid_targets_lengths,\n",
    "                     keep_prob: 1.0})\n",
    "\n",
    "                train_acc = get_accuracy(target_batch, batch_train_logits)\n",
    "\n",
    "                valid_acc = get_accuracy(valid_targets_batch, batch_valid_logits)\n",
    "\n",
    "                print('Epoch {:>3} Batch {:>4}/{} - Train Accuracy: {:>6.4f}, Validation Accuracy: {:>6.4f}, Loss: {:>6.4f}'\n",
    "                      .format(epoch_i, batch_i, len(source_int_text) // batch_size, train_acc, valid_acc, loss))\n",
    "\n",
    "    # Save Model\n",
    "    saver = tf.train.Saver()\n",
    "    saver.save(sess, save_path)\n",
    "    print('Model Trained and Saved')"
   ]
  },
  {
   "cell_type": "markdown",
   "metadata": {},
   "source": [
    "### Save Parameters\n",
    "Save the `batch_size` and `save_path` parameters for inference."
   ]
  },
  {
   "cell_type": "code",
   "execution_count": 115,
   "metadata": {
    "collapsed": true
   },
   "outputs": [],
   "source": [
    "\"\"\"\n",
    "DON'T MODIFY ANYTHING IN THIS CELL\n",
    "\"\"\"\n",
    "# Save parameters for checkpoint\n",
    "helper.save_params(save_path)"
   ]
  },
  {
   "cell_type": "markdown",
   "metadata": {},
   "source": [
    "# Checkpoint"
   ]
  },
  {
   "cell_type": "code",
   "execution_count": 116,
   "metadata": {
    "collapsed": true
   },
   "outputs": [],
   "source": [
    "\"\"\"\n",
    "DON'T MODIFY ANYTHING IN THIS CELL\n",
    "\"\"\"\n",
    "import tensorflow as tf\n",
    "import numpy as np\n",
    "import helper\n",
    "import problem_unittests as tests\n",
    "\n",
    "_, (source_vocab_to_int, target_vocab_to_int), (source_int_to_vocab, target_int_to_vocab) = helper.load_preprocess()\n",
    "load_path = helper.load_params()"
   ]
  },
  {
   "cell_type": "markdown",
   "metadata": {},
   "source": [
    "## Sentence to Sequence\n",
    "To feed a sentence into the model for translation, you first need to preprocess it.  Implement the function `sentence_to_seq()` to preprocess new sentences.\n",
    "\n",
    "- Convert the sentence to lowercase\n",
    "- Convert words into ids using `vocab_to_int`\n",
    " - Convert words not in the vocabulary, to the `<UNK>` word id."
   ]
  },
  {
   "cell_type": "code",
   "execution_count": 117,
   "metadata": {
    "collapsed": false
   },
   "outputs": [
    {
     "name": "stdout",
     "output_type": "stream",
     "text": [
      "Tests Passed\n"
     ]
    }
   ],
   "source": [
    "def sentence_to_seq(sentence, vocab_to_int):\n",
    "    \"\"\"\n",
    "    Convert a sentence to a sequence of ids\n",
    "    :param sentence: String\n",
    "    :param vocab_to_int: Dictionary to go from the words to an id\n",
    "    :return: List of word ids\n",
    "    \"\"\"\n",
    "    # TODO: Implement Function\n",
    "    sentence_seq = [vocab_to_int.get(word) or vocab_to_int['<UNK>'] for word in sentence.lower().split()]\n",
    "    return sentence_seq\n",
    "\n",
    "\n",
    "\"\"\"\n",
    "DON'T MODIFY ANYTHING IN THIS CELL THAT IS BELOW THIS LINE\n",
    "\"\"\"\n",
    "tests.test_sentence_to_seq(sentence_to_seq)"
   ]
  },
  {
   "cell_type": "markdown",
   "metadata": {},
   "source": [
    "## Translate\n",
    "This will translate `translate_sentence` from English to French."
   ]
  },
  {
   "cell_type": "code",
   "execution_count": 118,
   "metadata": {
    "collapsed": false
   },
   "outputs": [
    {
     "name": "stdout",
     "output_type": "stream",
     "text": [
      "INFO:tensorflow:Restoring parameters from checkpoints/dev\n",
      "Input\n",
      "  Word Ids:      [41, 181, 117, 191, 212, 166, 225]\n",
      "  English Words: ['he', 'saw', 'a', 'old', 'yellow', 'truck', '.']\n",
      "\n",
      "Prediction\n",
      "  Word Ids:      [149, 305, 311, 228, 306, 255, 352, 260, 1]\n",
      "  French Words: il a vu un vieux camion jaune . <EOS>\n"
     ]
    }
   ],
   "source": [
    "translate_sentence = 'he saw a old yellow truck .'\n",
    "\n",
    "\n",
    "\"\"\"\n",
    "DON'T MODIFY ANYTHING IN THIS CELL\n",
    "\"\"\"\n",
    "translate_sentence = sentence_to_seq(translate_sentence, source_vocab_to_int)\n",
    "\n",
    "loaded_graph = tf.Graph()\n",
    "with tf.Session(graph=loaded_graph) as sess:\n",
    "    # Load saved model\n",
    "    loader = tf.train.import_meta_graph(load_path + '.meta')\n",
    "    loader.restore(sess, load_path)\n",
    "\n",
    "    input_data = loaded_graph.get_tensor_by_name('input:0')\n",
    "    logits = loaded_graph.get_tensor_by_name('predictions:0')\n",
    "    target_sequence_length = loaded_graph.get_tensor_by_name('target_sequence_length:0')\n",
    "    source_sequence_length = loaded_graph.get_tensor_by_name('source_sequence_length:0')\n",
    "    keep_prob = loaded_graph.get_tensor_by_name('keep_prob:0')\n",
    "\n",
    "    translate_logits = sess.run(logits, {input_data: [translate_sentence]*batch_size,\n",
    "                                         target_sequence_length: [len(translate_sentence)*2]*batch_size,\n",
    "                                         source_sequence_length: [len(translate_sentence)]*batch_size,\n",
    "                                         keep_prob: 1.0})[0]\n",
    "\n",
    "print('Input')\n",
    "print('  Word Ids:      {}'.format([i for i in translate_sentence]))\n",
    "print('  English Words: {}'.format([source_int_to_vocab[i] for i in translate_sentence]))\n",
    "\n",
    "print('\\nPrediction')\n",
    "print('  Word Ids:      {}'.format([i for i in translate_logits]))\n",
    "print('  French Words: {}'.format(\" \".join([target_int_to_vocab[i] for i in translate_logits])))\n"
   ]
  },
  {
   "cell_type": "markdown",
   "metadata": {},
   "source": [
    "## Imperfect Translation\n",
    "You might notice that some sentences translate better than others.  Since the dataset you're using only has a vocabulary of 227 English words of the thousands that you use, you're only going to see good results using these words.  For this project, you don't need a perfect translation. However, if you want to create a better translation model, you'll need better data.\n",
    "\n",
    "You can train on the [WMT10 French-English corpus](http://www.statmt.org/wmt10/training-giga-fren.tar).  This dataset has more vocabulary and richer in topics discussed.  However, this will take you days to train, so make sure you've a GPU and the neural network is performing well on dataset we provided.  Just make sure you play with the WMT10 corpus after you've submitted this project.\n",
    "## Submitting This Project\n",
    "When submitting this project, make sure to run all the cells before saving the notebook. Save the notebook file as \"dlnd_language_translation.ipynb\" and save it as a HTML file under \"File\" -> \"Download as\". Include the \"helper.py\" and \"problem_unittests.py\" files in your submission."
   ]
  }
 ],
 "metadata": {
  "anaconda-cloud": {},
  "kernelspec": {
   "display_name": "Python 3",
   "language": "python",
   "name": "python3"
  },
  "language_info": {
   "codemirror_mode": {
    "name": "ipython",
    "version": 3
   },
   "file_extension": ".py",
   "mimetype": "text/x-python",
   "name": "python",
   "nbconvert_exporter": "python",
   "pygments_lexer": "ipython3",
   "version": "3.5.2"
  }
 },
 "nbformat": 4,
 "nbformat_minor": 1
}
